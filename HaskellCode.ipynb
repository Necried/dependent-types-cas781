{
 "cells": [
  {
   "cell_type": "markdown",
   "id": "0a517e77-5786-47c5-809a-45c206cd7697",
   "metadata": {},
   "source": [
    "---\n",
    "\n",
    "# A Tutorial Implementation of a Dependently Typed Lambda Calculus\n",
    "### Lucas Dutton\n",
    "### May 2024\n",
    "### CAS 781\n",
    "---"
   ]
  },
  {
   "cell_type": "markdown",
   "id": "6561551f-0e98-4942-b648-5899ca0df68f",
   "metadata": {},
   "source": [
    "# Prelude: Differences between Haskell and Elm"
   ]
  },
  {
   "cell_type": "markdown",
   "id": "9437e785-32e9-4b60-abb2-308257509089",
   "metadata": {},
   "source": [
    "## Functions and Types"
   ]
  },
  {
   "cell_type": "markdown",
   "id": "fb0a0f76-7d81-4e32-9721-e3317daea1a3",
   "metadata": {},
   "source": [
    "Elm types uses the `type` keyword, and `type alias` for type aliasing.\n",
    "\n",
    "Haskell uses `data` and `type`.\n",
    "\n",
    "For this Elm code:\n",
    "```elm\n",
    "type Color = Red | Yellow | Green\n",
    "type alias MaybeInt = Maybe Int\n",
    "```\n",
    "\n",
    "we have the corresponding definition in Haskell:"
   ]
  },
  {
   "cell_type": "code",
   "execution_count": 1,
   "id": "579d8898-b711-46be-903f-b15313941f18",
   "metadata": {
    "tags": []
   },
   "outputs": [],
   "source": [
    "data Color = Red | Yellow | Green\n",
    "type MaybeInt = Maybe Int"
   ]
  },
  {
   "cell_type": "markdown",
   "id": "4ad1be71-7893-4339-bbdb-efc0f10551b7",
   "metadata": {},
   "source": [
    "Haskell functions use `::` to denote \"type of\", as opposed to Elm's `:`."
   ]
  },
  {
   "cell_type": "code",
   "execution_count": 2,
   "id": "e63edf8c-6fb0-4425-8160-de56584c42d6",
   "metadata": {
    "tags": []
   },
   "outputs": [],
   "source": [
    "changeColor :: Color -> Color\n",
    "changeColor c = case c of\n",
    "  Red -> Green\n",
    "  Green -> Yellow\n",
    "  Yellow -> Red"
   ]
  },
  {
   "cell_type": "markdown",
   "id": "14267315-1bdc-48cf-b253-08933b633a8b",
   "metadata": {},
   "source": [
    "Instead of using a `case` expression, we can use pattern matching syntax., which also allows wildcards with underscores:"
   ]
  },
  {
   "cell_type": "code",
   "execution_count": 3,
   "id": "6c5d9078-9402-4941-8304-6239990ff42a",
   "metadata": {
    "tags": []
   },
   "outputs": [],
   "source": [
    "changeColor' :: Color -> Color\n",
    "changeColor' Red = Green\n",
    "changeColor' Green = Yellow\n",
    "changeColor' _ = Red"
   ]
  },
  {
   "cell_type": "markdown",
   "id": "98d302ff-8363-43a9-ad6e-6337e88faa31",
   "metadata": {},
   "source": [
    "## Haskell Lists"
   ]
  },
  {
   "cell_type": "markdown",
   "id": "d868fd8c-21bd-4230-a4cc-c1eb0e98abc2",
   "metadata": {},
   "source": [
    "Recall some basic Elm list operations:\n",
    "```elm\n",
    "listInts : List Int\n",
    "listInts = [3, 5, 7]\n",
    "\n",
    "consToList : List Int\n",
    "consToList = 1 :: [3, 5, 7]\n",
    "```\n",
    "\n",
    "The equivalent Haskell code is implemented as follows:"
   ]
  },
  {
   "cell_type": "code",
   "execution_count": 4,
   "id": "05a1d56e-d804-4b37-81e6-a8266767e3bb",
   "metadata": {
    "tags": []
   },
   "outputs": [],
   "source": [
    "listInts :: [Int]\n",
    "listInts = [3, 5, 7]\n",
    "\n",
    "consToList :: [Int]\n",
    "consToList = 1 : [3, 5, 7]"
   ]
  },
  {
   "cell_type": "markdown",
   "id": "97bff3e0-cec0-482d-b139-a3cdb982e6f3",
   "metadata": {},
   "source": [
    "We will make use of a *list indexing operation* `xs !! idx`. This returns the element in `xs` at index `idx`:"
   ]
  },
  {
   "cell_type": "code",
   "execution_count": 5,
   "id": "e099192c-6a88-4875-a865-4abe1597a49d",
   "metadata": {
    "tags": []
   },
   "outputs": [
    {
     "data": {
      "text/plain": [
       "5"
      ]
     },
     "metadata": {},
     "output_type": "display_data"
    }
   ],
   "source": [
    "consToList !! 2"
   ]
  },
  {
   "cell_type": "markdown",
   "id": "1837cf97-92c2-43c6-8818-da6532304b0b",
   "metadata": {},
   "source": [
    "However, indexing out of the list bounds will throw an error!"
   ]
  },
  {
   "cell_type": "code",
   "execution_count": 6,
   "id": "5d8e5805-69e4-42cc-b051-3a4181cd6d67",
   "metadata": {
    "tags": []
   },
   "outputs": [
    {
     "ename": "",
     "evalue": "",
     "output_type": "error",
     "traceback": [
      "Prelude.!!: index too large"
     ]
    }
   ],
   "source": [
    "consToList !! 10"
   ]
  },
  {
   "cell_type": "markdown",
   "id": "6474f29e-847b-4667-8c5d-287948e63185",
   "metadata": {},
   "source": [
    "## Do-notation"
   ]
  },
  {
   "cell_type": "markdown",
   "id": "9cf91f85-5472-4d67-bc20-b8f940a74661",
   "metadata": {},
   "source": [
    "We define a `Result` time, which is a wrapper around Haskell's `Either` type:"
   ]
  },
  {
   "cell_type": "code",
   "execution_count": 7,
   "id": "ad2aa74f-ee19-44b1-9c40-a13115aca93f",
   "metadata": {
    "tags": []
   },
   "outputs": [],
   "source": [
    "type Result a = Either String a"
   ]
  },
  {
   "cell_type": "markdown",
   "id": "17c5c8d6-02d5-4d60-8108-51241f87e018",
   "metadata": {},
   "source": [
    "This says that values are either an error message `String`, or a result type `a`.\n",
    "\n",
    "We can create `Result a` values and define functions that can throw errors.\n",
    "\n",
    "Instead of writing `Right x`, we can also write `return x`, i.e. returning a value `x` wrapped in the `Right` constructor:"
   ]
  },
  {
   "cell_type": "code",
   "execution_count": 8,
   "id": "89f57db2-5b4c-4b0d-8e66-4478b5c9d3fd",
   "metadata": {
    "tags": []
   },
   "outputs": [],
   "source": [
    "errorMsg, okValue :: Result Int\n",
    "errorMsg = Left \"an error message\"\n",
    "okValue = Right 3\n",
    "\n",
    "subtract :: Int -> Result Int\n",
    "subtract x =\n",
    "  let minusOneInt = x - 1\n",
    "  in if minusOneInt < 0 then Left \"negative value!\" else return minusOneInt"
   ]
  },
  {
   "cell_type": "markdown",
   "id": "0ac45645-b4b6-42e7-9112-7566f1668dd6",
   "metadata": {},
   "source": [
    "We can chain `subtract`:"
   ]
  },
  {
   "cell_type": "code",
   "execution_count": 9,
   "id": "f84400fc-e8a1-4517-9cb2-353b4fd9c324",
   "metadata": {
    "tags": []
   },
   "outputs": [],
   "source": [
    "minusTwo :: Int -> Result Int\n",
    "minusTwo x = case subtract x of\n",
    "  Left err -> Left err\n",
    "  Right okY -> case subtract okY of\n",
    "    Left err2 -> Left err2\n",
    "    Right okZ -> return okZ"
   ]
  },
  {
   "cell_type": "markdown",
   "id": "c215c4af-3ff3-4d53-93fd-7f7fdc4ac854",
   "metadata": {},
   "source": [
    "A nicer way to write this, which nicely avoids the `case` nesting, is to use `do`-notation:"
   ]
  },
  {
   "cell_type": "code",
   "execution_count": 10,
   "id": "766b2109-e1d5-4b6b-922f-2b0b2edca3ff",
   "metadata": {
    "tags": []
   },
   "outputs": [
    {
     "data": {
      "text/html": [
       "<style>/* Styles used for the Hoogle display in the pager */\n",
       ".hoogle-doc {\n",
       "display: block;\n",
       "padding-bottom: 1.3em;\n",
       "padding-left: 0.4em;\n",
       "}\n",
       ".hoogle-code {\n",
       "display: block;\n",
       "font-family: monospace;\n",
       "white-space: pre;\n",
       "}\n",
       ".hoogle-text {\n",
       "display: block;\n",
       "}\n",
       ".hoogle-name {\n",
       "color: green;\n",
       "font-weight: bold;\n",
       "}\n",
       ".hoogle-head {\n",
       "font-weight: bold;\n",
       "}\n",
       ".hoogle-sub {\n",
       "display: block;\n",
       "margin-left: 0.4em;\n",
       "}\n",
       ".hoogle-package {\n",
       "font-weight: bold;\n",
       "font-style: italic;\n",
       "}\n",
       ".hoogle-module {\n",
       "font-weight: bold;\n",
       "}\n",
       ".hoogle-class {\n",
       "font-weight: bold;\n",
       "}\n",
       ".get-type {\n",
       "color: green;\n",
       "font-weight: bold;\n",
       "font-family: monospace;\n",
       "display: block;\n",
       "white-space: pre-wrap;\n",
       "}\n",
       ".show-type {\n",
       "color: green;\n",
       "font-weight: bold;\n",
       "font-family: monospace;\n",
       "margin-left: 1em;\n",
       "}\n",
       ".mono {\n",
       "font-family: monospace;\n",
       "display: block;\n",
       "}\n",
       ".err-msg {\n",
       "color: red;\n",
       "font-style: italic;\n",
       "font-family: monospace;\n",
       "white-space: pre;\n",
       "display: block;\n",
       "}\n",
       "#unshowable {\n",
       "color: red;\n",
       "font-weight: bold;\n",
       "}\n",
       ".err-msg.in.collapse {\n",
       "padding-top: 0.7em;\n",
       "}\n",
       ".highlight-code {\n",
       "white-space: pre;\n",
       "font-family: monospace;\n",
       "}\n",
       ".suggestion-warning { \n",
       "font-weight: bold;\n",
       "color: rgb(200, 130, 0);\n",
       "}\n",
       ".suggestion-error { \n",
       "font-weight: bold;\n",
       "color: red;\n",
       "}\n",
       ".suggestion-name {\n",
       "font-weight: bold;\n",
       "}\n",
       "</style><div class=\"suggestion-name\" style=\"clear:both;\">Redundant return</div><div class=\"suggestion-row\" style=\"float: left;\"><div class=\"suggestion-warning\">Found:</div><div class=\"highlight-code\" id=\"haskell\">do okY <- subtract x\n",
       "   okZ <- subtract okY\n",
       "   return okZ</div></div><div class=\"suggestion-row\" style=\"float: left;\"><div class=\"suggestion-warning\">Why Not:</div><div class=\"highlight-code\" id=\"haskell\">do okY <- subtract x\n",
       "   subtract okY</div></div>"
      ],
      "text/plain": [
       "Line 2: Redundant return\n",
       "Found:\n",
       "do okY <- subtract x\n",
       "   okZ <- subtract okY\n",
       "   return okZ\n",
       "Why not:\n",
       "do okY <- subtract x\n",
       "   subtract okY"
      ]
     },
     "metadata": {},
     "output_type": "display_data"
    }
   ],
   "source": [
    "minusTwoDo :: Int -> Result Int\n",
    "minusTwoDo x = do\n",
    "  okY <- subtract x\n",
    "  okZ <- subtract okY\n",
    "  return okZ"
   ]
  },
  {
   "cell_type": "markdown",
   "id": "48cf33b5-98d7-430d-a0e2-0566be7d8132",
   "metadata": {},
   "source": [
    "If you read the warning message, you see that we can replace the last two lines with just `subtract okY`! This is because the last line of a do-notation IS the return value (and we don't have to wrap the value in a `return` either):"
   ]
  },
  {
   "cell_type": "code",
   "execution_count": 11,
   "id": "17442b57-4e8f-49f2-accb-c4c9e9e62759",
   "metadata": {
    "tags": []
   },
   "outputs": [],
   "source": [
    "minusTwoDo' :: Int -> Result Int\n",
    "minusTwoDo' x = do\n",
    "  okY <- subtract x\n",
    "  subtract okY"
   ]
  },
  {
   "cell_type": "markdown",
   "id": "e57d130b-2d36-46a5-8a01-92d8835f5d04",
   "metadata": {},
   "source": [
    "# Prelude - Some Elm Niceties"
   ]
  },
  {
   "cell_type": "markdown",
   "id": "b92703be-a69b-4d0e-97e0-974a575b7aa2",
   "metadata": {},
   "source": [
    "## Pipe operators"
   ]
  },
  {
   "cell_type": "markdown",
   "id": "afea9003-a46a-4f8d-940e-db1963bf9058",
   "metadata": {},
   "source": [
    "We define forward and backward piping, which works exactly like their Elm counterparts:"
   ]
  },
  {
   "cell_type": "code",
   "execution_count": 12,
   "id": "1846c8ec-dcf1-46f4-855d-c4f42476d8a1",
   "metadata": {
    "tags": []
   },
   "outputs": [],
   "source": [
    "infixr 0 <|\n",
    "(<|) = ($)\n",
    "\n",
    "infixl 1 |>\n",
    "(|>) :: a -> (a -> b) -> b\n",
    "(|>) a f = f a"
   ]
  },
  {
   "cell_type": "markdown",
   "id": "60d48f7d-2cfd-49f7-84da-68237b7d6f44",
   "metadata": {},
   "source": [
    "## Dict type and operations"
   ]
  },
  {
   "cell_type": "markdown",
   "id": "19b6169b-ef61-4835-8677-0125c89bad30",
   "metadata": {},
   "source": [
    "We define the `Dict` type, which uses an underlying `Data.Map.Strict`, but works the same way as the Elm `Dict` type:"
   ]
  },
  {
   "cell_type": "code",
   "execution_count": 13,
   "id": "2ed2685e-ded6-42ab-9d17-cea25db1cf56",
   "metadata": {
    "tags": []
   },
   "outputs": [],
   "source": [
    "import qualified Data.Map.Strict as Dict\n",
    "import qualified Data.Map.Strict as StrictMap (insert)\n",
    "type Dict = Dict.Map\n",
    "get = Dict.lookup\n",
    "insert = StrictMap.insert"
   ]
  },
  {
   "cell_type": "code",
   "execution_count": 14,
   "id": "65697783-27d1-46d5-bb2c-76c024038296",
   "metadata": {
    "tags": []
   },
   "outputs": [
    {
     "data": {
      "text/plain": [
       "Just \"May\""
      ]
     },
     "metadata": {},
     "output_type": "display_data"
    }
   ],
   "source": [
    "emptyDict = Dict.fromList []  -- Also can write Dict.empty\n",
    "dictWithOneVal = insert \"Month\" \"May\" emptyDict\n",
    "get \"Month\" dictWithOneVal"
   ]
  },
  {
   "cell_type": "code",
   "execution_count": 15,
   "id": "54e9e37a-fb62-40a8-81dc-453e740dd436",
   "metadata": {
    "tags": []
   },
   "outputs": [
    {
     "data": {
      "text/plain": [
       "Nothing"
      ]
     },
     "metadata": {},
     "output_type": "display_data"
    }
   ],
   "source": [
    "get \"Day\" dictWithOneVal"
   ]
  },
  {
   "cell_type": "markdown",
   "id": "c37df4ec-ee2a-479a-ab92-42608f805d2e",
   "metadata": {},
   "source": [
    "## Error Handling"
   ]
  },
  {
   "cell_type": "markdown",
   "id": "c3dd79a4-4eaf-4460-8f72-93b6cb17fbb2",
   "metadata": {},
   "source": [
    "This imports two functions, `throwError` and `unless`, that work on `Result` types"
   ]
  },
  {
   "cell_type": "code",
   "execution_count": 16,
   "id": "97d2e1df-78d0-4761-a727-8c3b184e03f9",
   "metadata": {
    "tags": []
   },
   "outputs": [],
   "source": [
    "import Control.Monad.Error.Class (throwError)\n",
    "import Control.Monad (unless)"
   ]
  },
  {
   "cell_type": "code",
   "execution_count": 17,
   "id": "7101adc9-9549-48a7-9cb1-7108640f24ea",
   "metadata": {
    "tags": []
   },
   "outputs": [],
   "source": [
    "exampleError :: Result a\n",
    "exampleError = throwError \"An error!\""
   ]
  },
  {
   "cell_type": "code",
   "execution_count": 18,
   "id": "d44ba674-b844-47e9-ae58-36d0a3170f29",
   "metadata": {
    "tags": []
   },
   "outputs": [
    {
     "data": {
      "text/plain": [
       "Left \"An error!\""
      ]
     },
     "metadata": {},
     "output_type": "display_data"
    }
   ],
   "source": [
    "exampleError"
   ]
  },
  {
   "cell_type": "code",
   "execution_count": 19,
   "id": "ea09626d-867d-45f6-9692-375a61fa0356",
   "metadata": {
    "tags": []
   },
   "outputs": [],
   "source": [
    "minusTwoGTEOne :: Int -> Result ()\n",
    "minusTwoGTEOne x = do\n",
    "  val <- minusTwoDo x\n",
    "  unless (val >= 1) (throwError \"Value is less than one\")"
   ]
  },
  {
   "cell_type": "code",
   "execution_count": 20,
   "id": "49887740-beb1-4c54-82d8-e3cb168e4695",
   "metadata": {
    "tags": []
   },
   "outputs": [
    {
     "data": {
      "text/plain": [
       "Right ()"
      ]
     },
     "metadata": {},
     "output_type": "display_data"
    }
   ],
   "source": [
    "minusTwoGTEOne 3"
   ]
  },
  {
   "cell_type": "code",
   "execution_count": 21,
   "id": "b1d92d79-43f1-4ad1-a54e-ac95de27ca3d",
   "metadata": {
    "tags": []
   },
   "outputs": [
    {
     "data": {
      "text/plain": [
       "Left \"Value is less than one\""
      ]
     },
     "metadata": {},
     "output_type": "display_data"
    }
   ],
   "source": [
    "minusTwoGTEOne 2"
   ]
  },
  {
   "cell_type": "markdown",
   "id": "e7131e1f-3b82-4ff1-a4f3-0517530b8cc6",
   "metadata": {},
   "source": [
    "Notice that the next function could throw two errors: it is both a negative value, and it is also less than one.\n",
    "\n",
    "The `Result` type in do-notation always throws the earliest occuring error:"
   ]
  },
  {
   "cell_type": "code",
   "execution_count": 22,
   "id": "a42a55be-732f-4e04-be3b-5c44010dc8ed",
   "metadata": {
    "tags": []
   },
   "outputs": [
    {
     "data": {
      "text/plain": [
       "Left \"negative value!\""
      ]
     },
     "metadata": {},
     "output_type": "display_data"
    }
   ],
   "source": [
    "minusTwoGTEOne 1"
   ]
  },
  {
   "cell_type": "markdown",
   "id": "a9c5f20f-cd26-4eb7-b1d5-21a3219a142c",
   "metadata": {},
   "source": [
    "# Prelude - De Bruijn Indices"
   ]
  },
  {
   "cell_type": "markdown",
   "id": "6783b2cf-d8bd-443a-b7e7-99fb4e5cb3f2",
   "metadata": {},
   "source": [
    "Consider the following expression:\n",
    "\n",
    "```\n",
    "λ x. λ x. x\n",
    "```\n",
    "\n",
    "Which `x` does the body refer to? The outer `x` or the inner `x`?\n",
    "\n",
    "This isn't easily answered for the lambda calculus; most programming languages have a mechanism for this, called \"name shadowing\"."
   ]
  },
  {
   "cell_type": "markdown",
   "id": "b1024f2e-51a4-4afb-ab08-d96ca1f4d0c1",
   "metadata": {},
   "source": [
    "The idea of **De Bruijn Indices** is to avoid this problem entirely by using a scoped integer representation of local variables.\n",
    "\n",
    "Let's look at an example: the λ-term\n",
    "\n",
    "```\n",
    "λ x. x (λ y. y x)\n",
    "```\n",
    "\n",
    "can be represented as\n",
    "\n",
    "```\n",
    "λ. 0 (λ. 0 1)\n",
    "```"
   ]
  },
  {
   "cell_type": "markdown",
   "id": "504059fd-bcd6-406c-a1af-5c09de1fe861",
   "metadata": {},
   "source": [
    "<img style=\"float:left;border-left:6em solid white\" src=\"./assets/DeBruijnExample.png\"/>\n",
    "\n",
    "\n",
    "- The occurence of the outer `x` is replaced with 0 to signify that `x` is the variable bound by the closest occuring λ binder.\n",
    "- The inner `y` is bound in a similar fashion\n",
    "- The second `x` is replaced by 1 to signify that this variable is bounded by two λ's up the syntax tree (indicated by the red arrow)"
   ]
  },
  {
   "cell_type": "markdown",
   "id": "78b11420-ffd2-465a-b1b0-593a9bcfb4dc",
   "metadata": {
    "tags": []
   },
   "source": [
    "# Simply Typed Lambda Calculus"
   ]
  },
  {
   "cell_type": "markdown",
   "id": "0fe6b73a-8aee-4c43-aa65-435fe5912077",
   "metadata": {},
   "source": [
    "The paper introduces the simply-typed lambda calculus, presenting the abstract syntax, evaluation rules and typechecking rules before the Haskell code.\n",
    "\n",
    "This presentation will introduce the Haskell code concurrently with the mathematical notation."
   ]
  },
  {
   "cell_type": "markdown",
   "id": "a08eb98a-492d-45ae-8c18-d4052cc6616f",
   "metadata": {},
   "source": [
    "## Haskell Definitions"
   ]
  },
  {
   "cell_type": "markdown",
   "id": "de1875f0-3a1d-4911-b898-31126feeeff2",
   "metadata": {},
   "source": [
    "### Definition for Names"
   ]
  },
  {
   "cell_type": "markdown",
   "id": "025aa3a9-540e-4cb6-ad44-a747b4326130",
   "metadata": {},
   "source": [
    "Variables have 2 different representations:\n",
    "- They are bounded by a lambda term: We use the `Local` constructor to attach an index to the variable, using De Bruijn representation\n",
    "- They are free: We refer to them by their *name*, using the `Global` constructor\n",
    "\n",
    "The combination of using numbers for local variables and names for global variables is called a *locally nameless* representation.\n",
    "\n",
    "The `Quote` constructor will be used during the process of \"quoting\", explained later below."
   ]
  },
  {
   "cell_type": "code",
   "execution_count": 23,
   "id": "4bb192b1-fbd6-4119-8f4c-b029e59bae37",
   "metadata": {
    "tags": []
   },
   "outputs": [],
   "source": [
    "data Name\n",
    "  = Global String\n",
    "  | Local  Int\n",
    "  | Quote  Int\n",
    "  deriving (Show, Ord, Eq)"
   ]
  },
  {
   "cell_type": "markdown",
   "id": "bdd9768e-84e7-4f8a-9d7f-71aefd2b22cd",
   "metadata": {},
   "source": [
    "### Definition for Types"
   ]
  },
  {
   "cell_type": "markdown",
   "id": "a4434aab-54e3-4ef3-a148-d7df2d4c9dde",
   "metadata": {},
   "source": [
    "There are only two constructs for types:\n",
    "\n",
    "```\n",
    "τ ::= α        base type\n",
    "    | τ → τ'   function type\n",
    "```"
   ]
  },
  {
   "cell_type": "code",
   "execution_count": 24,
   "id": "8e7b383f-396a-42a7-9dfd-5b906285035f",
   "metadata": {
    "tags": []
   },
   "outputs": [],
   "source": [
    "data Type\n",
    "  = TFree Name\n",
    "  | Fun Type Type\n",
    "  deriving (Show, Eq)"
   ]
  },
  {
   "cell_type": "markdown",
   "id": "46ff0726-9467-4fe2-9554-23e1e11febf1",
   "metadata": {},
   "source": [
    "### Definition for Terms"
   ]
  },
  {
   "cell_type": "markdown",
   "id": "22b78e4d-8fde-45d8-9b4c-ef41329bf56a",
   "metadata": {},
   "source": [
    "There are four kinds of terms:\n",
    "```\n",
    "e ::= e :: τ    annotated term\n",
    "   |  x         variable\n",
    "   |  e e'      function application\n",
    "   |  λ x → e   lambda abstraction/function declaration\n",
    "```\n",
    "\n",
    "The implementation is slightly more complex:\n",
    "- We separate between *inferrable* terms `TermInfer` and *checkable* terms `TermCheck`\n",
    "- `TermInfer` contains annotated terms, free/bound variables, and application `:@:`\n",
    "  - For example, `f a` is written as `f :@: a` in code\n",
    "- `TermCheck` contains lambda abstractions *without* the bound variable name because of the De Bruijn representation\n",
    "- `TermCheck` also has *inferrable* terms with the `Inf` constructor"
   ]
  },
  {
   "cell_type": "code",
   "execution_count": 25,
   "id": "87194298-efef-4f92-8d67-fe7f7bd05152",
   "metadata": {
    "tags": []
   },
   "outputs": [],
   "source": [
    "data TermInfer\n",
    "  = Ann   TermCheck Type\n",
    "  | Bound Int\n",
    "  | Free  Name\n",
    "  | TermInfer :@: TermCheck\n",
    "  deriving (Show, Eq)\n",
    "  \n",
    "data TermCheck\n",
    "  = Inf  TermInfer\n",
    "  | Lam  TermCheck\n",
    "  deriving (Show, Eq)"
   ]
  },
  {
   "cell_type": "markdown",
   "id": "d918146d-fb42-4904-898d-edbaa25584a0",
   "metadata": {},
   "source": [
    "### Definition for Values"
   ]
  },
  {
   "cell_type": "markdown",
   "id": "86ef845f-5d86-4188-808f-4a17724d6bcd",
   "metadata": {},
   "source": [
    "Terms can be *evaluated* to values:\n",
    "```\n",
    "v ::= λ x −> v  lambda abstraction\n",
    "   |  n         annotated term \n",
    "   \n",
    "n ::= x         variable\n",
    "   |  n v       application\n",
    "```\n",
    "\n",
    "A value is either a lambda abstraction or a *neutral term*, i.e. a variable applied to a (possibly empty) sequence of values\n",
    "\n",
    "Notice that `VLam` takes a Haskell function as an argument. This prevents us from printing `VLam`! We will define quotation to deal with this issue."
   ]
  },
  {
   "cell_type": "code",
   "execution_count": 26,
   "id": "4bb545a7-ad1a-4665-9ae6-a20a3cf748f6",
   "metadata": {
    "tags": []
   },
   "outputs": [],
   "source": [
    "data Value\n",
    "  = VLam    (Value -> Value)\n",
    "  | VNeutral Neutral\n",
    "\n",
    "data Neutral\n",
    "  = NFree Name\n",
    "  | NApp Neutral Value"
   ]
  },
  {
   "cell_type": "code",
   "execution_count": 27,
   "id": "b9b1b276-f0ca-414f-86e5-79262385a79f",
   "metadata": {
    "tags": []
   },
   "outputs": [],
   "source": [
    "vfree :: Name -> Value\n",
    "vfree n = VNeutral (NFree n)"
   ]
  },
  {
   "cell_type": "markdown",
   "id": "c52314c3-6c56-4faf-ad24-e9f8f35d771a",
   "metadata": {},
   "source": [
    "## Evaluation"
   ]
  },
  {
   "cell_type": "markdown",
   "id": "6d29e746-0bd4-4510-9319-882c632972f3",
   "metadata": {},
   "source": [
    "To evaluate *bound* variables, we need a way of looking them up in an environment.\n",
    "\n",
    "The environment is defined as a list, but is still defined as as mapping: We map the De Bruijn indices based on their position in the list!"
   ]
  },
  {
   "cell_type": "code",
   "execution_count": 28,
   "id": "471be095-f2c2-43f2-97a2-5117af5de720",
   "metadata": {
    "tags": []
   },
   "outputs": [],
   "source": [
    "type Env = [Value]"
   ]
  },
  {
   "cell_type": "markdown",
   "id": "66581fc1-35c3-465e-872a-6c7e9d2e7fe5",
   "metadata": {},
   "source": [
    "Back to the previous example:\n",
    "\n",
    "<img style=\"float:left;border-left:6em solid white\" src=\"./assets/DeBruijnExample.png\"/>\n",
    "\n",
    "- We start with the empty environment `env = []`\n",
    "- First, we insert the value of `x` into the empty environment: `x :: []`\n",
    "- To look up the value of `x` in the outer lambda, we index at the 0th position: `env !! 0`\n",
    "- When entering the inner lambda, we put the value of `y` at the front of the list: `y :: [x]`. The list is now `[y, x]`.\n",
    "- Now looking up `x` is done by `env !! 1`, and `y` is `env !! 0`"
   ]
  },
  {
   "cell_type": "markdown",
   "id": "8f636144-f846-4664-9dbf-b34f067b51c6",
   "metadata": {},
   "source": [
    "<img style=\"float:left;border-left:6em solid white\" src=\"./assets/simple-eval.jpg\"/>"
   ]
  },
  {
   "cell_type": "markdown",
   "id": "40b023ce-0e02-4145-a937-96a81a721eeb",
   "metadata": {},
   "source": [
    "Evaluation is given in the above figure. The implementation splits the rules into `evalInfer` and `evalCheck`, for inferred terms and checked terms.\n",
    "\n",
    "The notation `e ⇓ v` means the result of *completely* evaluating `e` is `v` - this uses big-step semantics.\n",
    "\n",
    "1. Annotations get ignored - we just evaluate the expression `e`.\n",
    "2. Variables evaluate to themselves.\n",
    "3. Applications can be reduced to two subcases:\n",
    "   1. If `e` evaluates to a lambda, we can perform substitution on occurences of `x` with `e'` in `v`, yielding the final term `v'`\n",
    "   2. If `e` evaluates to a neutral term, we cannot proceed further! We construct a new neutral term from the results of evaluating the two subterms.\n",
    "4. For lambdas themselves, we directly evaluate the body."
   ]
  },
  {
   "cell_type": "code",
   "execution_count": 29,
   "id": "4fb283a0-fd7a-4013-958c-0e5e07c6bc30",
   "metadata": {
    "tags": []
   },
   "outputs": [],
   "source": [
    "evalInfer :: TermInfer -> Env -> Value\n",
    "evalInfer (Ann e _)  d = evalCheck e d\n",
    "evalInfer (Free x)   d = vfree x\n",
    "evalInfer (Bound i)  d = d !! i\n",
    "evalInfer (e :@: e') d = vapp (evalInfer e d) (evalCheck e' d)\n",
    "\n",
    "evalCheck :: TermCheck -> Env -> Value\n",
    "evalCheck (Inf  i) d = evalInfer i d\n",
    "evalCheck (Lam  e) d = VLam (\\x -> evalCheck e (x : d))\n",
    "\n",
    "vapp :: Value -> Value -> Value\n",
    "vapp (VLam f)     v = f v\n",
    "vapp (VNeutral n) v = VNeutral (NApp n v)"
   ]
  },
  {
   "cell_type": "markdown",
   "id": "f7d2e23c-c4c2-4597-8f4d-0a9bb5450df8",
   "metadata": {},
   "source": [
    "The evaluation returns `Values` in the Haskell code, and contains further details:\n",
    "- Evaluating `Free` returns the name of the variable itself, using the `vfree` smart constructor.\n",
    "- Evaluating `Bound` uses the indexing function.\n",
    "- Evaluating `:@:` calls `evalInfer` on the function term, and `evalCheck` on the argument term.\n",
    "  - `vapp` returns `f v`, if the function term is a lambda value `VLam`\n",
    "  - It returns `VNeutral` otherwise, which wraps an application value `NApp`\n",
    "- Evaluating `Lam` creates a *Haskell* function that takes a value `x` as an argument, and inserts `x` into the environment."
   ]
  },
  {
   "cell_type": "markdown",
   "id": "7cc3a3e9-d388-4d60-860c-d273962c2b7b",
   "metadata": {},
   "source": [
    "## Contexts"
   ]
  },
  {
   "cell_type": "markdown",
   "id": "0f88ca43-ec8d-4eea-bae5-06f7d907c88c",
   "metadata": {},
   "source": [
    "Contexts can be either of the following:\n",
    "\n",
    "```\n",
    "Γ ::= ε         empty context \n",
    "  |  Γ, α :: *  adding a type identifier\n",
    "  |  Γ, x :: τ  adding a term identifier\n",
    "```\n",
    "\n",
    "We store both terms and types in the context. \n",
    "- A term `x :: τ` reads `x` has type `τ`\n",
    "- A type `α :: *` reads `α` has kind `*`"
   ]
  },
  {
   "cell_type": "code",
   "execution_count": 30,
   "id": "a6a10e8d-9558-474e-8aad-6ec1799d56ee",
   "metadata": {
    "tags": []
   },
   "outputs": [],
   "source": [
    "data Kind = TypeKind\n",
    "  deriving (Show)\n",
    "\n",
    "data Info\n",
    "  = HasKind Kind\n",
    "  | HasType Type\n",
    "  deriving (Show)"
   ]
  },
  {
   "cell_type": "markdown",
   "id": "61704180-3ca1-4ec8-9916-d5918cbb9834",
   "metadata": {},
   "source": [
    "<img style=\"float:left;border-left:6em solid white\" src=\"./assets/simple-context.jpg\"/>"
   ]
  },
  {
   "cell_type": "markdown",
   "id": "cd4436fc-ba9e-42bb-b2a6-c30de34d52fc",
   "metadata": {},
   "source": [
    "Valid contexts are defined with judgment rules.\n",
    "- The first three rules correspond to each constructor of the context. Note that for terms to be valid, their types must be kinded with `TypeKind`\n",
    "- The `TVAR` rule states that a type is well-formed when it is kinded with `TypeKind` in the context\n",
    "- `FUN` states that for a function arrow to be valid, `τ` and `τ'` must be kinded with `TypeKind`"
   ]
  },
  {
   "cell_type": "markdown",
   "id": "23a9c621-f1d7-499e-a959-ffd703d85c26",
   "metadata": {},
   "source": [
    "We assume that all contexts are valid from here out. **NOTE: When creating examples, we must ensure our contexts are valid!**\n",
    "\n",
    "The `Context` is implemented as a dictionary mapping `Names` to their `Info`"
   ]
  },
  {
   "cell_type": "code",
   "execution_count": 31,
   "id": "5219cd0e-2eed-453a-9a8a-42cc7e5a4c48",
   "metadata": {
    "tags": []
   },
   "outputs": [],
   "source": [
    "type Context = Dict Name Info"
   ]
  },
  {
   "cell_type": "code",
   "execution_count": 32,
   "id": "f0ace7dc-9e8e-4cbf-a1b9-c154a9045a7b",
   "metadata": {
    "tags": []
   },
   "outputs": [],
   "source": [
    "kindCheck :: Context -> Type -> Kind -> Result ()\n",
    "kindCheck ctx (TFree x) TypeKind = \n",
    "  case get x ctx of\n",
    "    Just (HasKind TypeKind) -> return ()\n",
    "    Nothing                 -> throwError \"unknown identifier\"\n",
    "kindCheck ctx (Fun k1 k2) TypeKind = do\n",
    "  kindCheck ctx k1 TypeKind\n",
    "  kindCheck ctx k2 TypeKind"
   ]
  },
  {
   "cell_type": "markdown",
   "id": "426b6661-4b7a-4a1a-bf26-b5573e6bdd7f",
   "metadata": {},
   "source": [
    "## Type Checking"
   ]
  },
  {
   "cell_type": "markdown",
   "id": "d47debd6-77d5-4ace-8933-74e6815e9815",
   "metadata": {},
   "source": [
    "### Substitution"
   ]
  },
  {
   "cell_type": "markdown",
   "id": "7727eedb-cbca-4b39-88f7-262f2eb5af73",
   "metadata": {},
   "source": [
    "Substitutions deal only with bound variables (free variables are left unchanged).\n",
    "\n",
    "`substInfer` and `substCheck` takes term `r` and attempts to substitute.\n",
    "\n",
    "The two interesting cases to look at are for `Bound k` and `Lam e`:\n",
    "- We check the index `i`, and if it is equal to the the bound variable index `j`, we return the substitution term `r`. Otherwise, leave the bound variable unchanged.\n",
    "- For `Lam` terms, we increment the index `i` and proceed into the body `e`.\n",
    "\n",
    "Substitution will be used in the type checking procedure."
   ]
  },
  {
   "cell_type": "code",
   "execution_count": 33,
   "id": "d727aa70-2c7b-4d45-9aaa-098d948497fb",
   "metadata": {
    "tags": []
   },
   "outputs": [],
   "source": [
    "substInfer :: Int -> TermInfer -> TermInfer -> TermInfer\n",
    "substInfer i r (Ann e t)   = Ann (substCheck i r e) t\n",
    "substInfer i r (Bound j)   = if i == j then r else Bound j\n",
    "substInfer i r (Free y)    = Free y\n",
    "substInfer i r (e1 :@: e2) = substInfer i r e1 :@: substCheck i r e2\n",
    "\n",
    "substCheck :: Int -> TermInfer -> TermCheck -> TermCheck\n",
    "substCheck i r (Inf e)  = Inf (substInfer i r e)\n",
    "substCheck i r (Lam e)  = Lam (substCheck (i + 1) r e)"
   ]
  },
  {
   "cell_type": "markdown",
   "id": "a6e6d03e-d7f8-4d94-9f83-f73368297290",
   "metadata": {},
   "source": [
    "As with bidirectional type checking, we split into \"infer mode\" `typeInfer` and \"check mode\" `typeCheck`. The top-level function is `typeInfer0`.\n",
    "\n",
    "<img style=\"float:left;border-left:2em solid white\" src=\"./assets/simple-typerules.jpg\"/>"
   ]
  },
  {
   "cell_type": "markdown",
   "id": "ae13432e-75fd-4d3f-9660-77f4a932f944",
   "metadata": {},
   "source": [
    "For inferrable terms:\n",
    "- `Ann e t` `t` to ensure it is `TypeKind`, and then `typeChecks` the term with its annotated type `t`\n",
    "- `Free x` looks up the type of `x` in the context\n",
    "- `e1 :@: e2` infers the function arrow type for `e1`, then uses the return type `t2` to check `e2`\n",
    "\n",
    "For checkable terms:\n",
    "- `Inf e` switches from check mode to infer mode on term `e`. The inferred type `t'` must equal the type `t` it is checking on\n",
    "- `Lam e` is complicated:\n",
    "  - The checked type must be a function type `Fun t1 t2`.\n",
    "  - We go into one additional nesting level. So the index is incremented `i + 1`.\n",
    "  - The local variable `i` is inserted into the environment `(ctx |> insert (Local i) (HasType t1))`. Since it is the input type, it has type `t1`.\n",
    "  - We substitute all bound occurences of `i` in `e` with `Free (Local i)`, i.e. making it a free variable. Consequently, `typeInfer` will never have a case for bound variables!"
   ]
  },
  {
   "cell_type": "code",
   "execution_count": 34,
   "id": "d0bb239e-e8a0-4dc5-8487-ff48b3ef3644",
   "metadata": {
    "tags": []
   },
   "outputs": [
    {
     "data": {
      "text/html": [
       "<style>/* Styles used for the Hoogle display in the pager */\n",
       ".hoogle-doc {\n",
       "display: block;\n",
       "padding-bottom: 1.3em;\n",
       "padding-left: 0.4em;\n",
       "}\n",
       ".hoogle-code {\n",
       "display: block;\n",
       "font-family: monospace;\n",
       "white-space: pre;\n",
       "}\n",
       ".hoogle-text {\n",
       "display: block;\n",
       "}\n",
       ".hoogle-name {\n",
       "color: green;\n",
       "font-weight: bold;\n",
       "}\n",
       ".hoogle-head {\n",
       "font-weight: bold;\n",
       "}\n",
       ".hoogle-sub {\n",
       "display: block;\n",
       "margin-left: 0.4em;\n",
       "}\n",
       ".hoogle-package {\n",
       "font-weight: bold;\n",
       "font-style: italic;\n",
       "}\n",
       ".hoogle-module {\n",
       "font-weight: bold;\n",
       "}\n",
       ".hoogle-class {\n",
       "font-weight: bold;\n",
       "}\n",
       ".get-type {\n",
       "color: green;\n",
       "font-weight: bold;\n",
       "font-family: monospace;\n",
       "display: block;\n",
       "white-space: pre-wrap;\n",
       "}\n",
       ".show-type {\n",
       "color: green;\n",
       "font-weight: bold;\n",
       "font-family: monospace;\n",
       "margin-left: 1em;\n",
       "}\n",
       ".mono {\n",
       "font-family: monospace;\n",
       "display: block;\n",
       "}\n",
       ".err-msg {\n",
       "color: red;\n",
       "font-style: italic;\n",
       "font-family: monospace;\n",
       "white-space: pre;\n",
       "display: block;\n",
       "}\n",
       "#unshowable {\n",
       "color: red;\n",
       "font-weight: bold;\n",
       "}\n",
       ".err-msg.in.collapse {\n",
       "padding-top: 0.7em;\n",
       "}\n",
       ".highlight-code {\n",
       "white-space: pre;\n",
       "font-family: monospace;\n",
       "}\n",
       ".suggestion-warning { \n",
       "font-weight: bold;\n",
       "color: rgb(200, 130, 0);\n",
       "}\n",
       ".suggestion-error { \n",
       "font-weight: bold;\n",
       "color: red;\n",
       "}\n",
       ".suggestion-name {\n",
       "font-weight: bold;\n",
       "}\n",
       "</style><div class=\"suggestion-name\" style=\"clear:both;\">Eta reduce</div><div class=\"suggestion-row\" style=\"float: left;\"><div class=\"suggestion-warning\">Found:</div><div class=\"highlight-code\" id=\"haskell\">typeInfer0 ctx term = typeInfer 0 ctx term</div></div><div class=\"suggestion-row\" style=\"float: left;\"><div class=\"suggestion-warning\">Why Not:</div><div class=\"highlight-code\" id=\"haskell\">typeInfer0 = typeInfer 0</div></div>"
      ],
      "text/plain": [
       "Line 2: Eta reduce\n",
       "Found:\n",
       "typeInfer0 ctx term = typeInfer 0 ctx term\n",
       "Why not:\n",
       "typeInfer0 = typeInfer 0"
      ]
     },
     "metadata": {},
     "output_type": "display_data"
    }
   ],
   "source": [
    "typeInfer0 :: Context -> TermInfer -> Result Type\n",
    "typeInfer0 ctx term = typeInfer 0 ctx term\n",
    "\n",
    "typeInfer :: Int -> Context -> TermInfer -> Result Type\n",
    "typeInfer i ctx (Ann e t) = do\n",
    "  kindCheck ctx t TypeKind\n",
    "  typeCheck i ctx e t\n",
    "  return t\n",
    "typeInfer i ctx (Free x) = \n",
    "  case get x ctx of\n",
    "    Just (HasType t) -> return t\n",
    "    Nothing          -> throwError \"typeInfer Free case: unknown identifier\"\n",
    "typeInfer i ctx (e1 :@: e2) = do\n",
    "  tyFun <- typeInfer i ctx e1 \n",
    "  case tyFun of\n",
    "    Fun t1 t2 -> do\n",
    "      typeCheck i ctx e2 t1\n",
    "      return t2\n",
    "    _ -> throwError \"typeInfer :@: case: illegal application\"\n",
    "    \n",
    "typeCheck :: Int -> Context -> TermCheck -> Type -> Result ()\n",
    "typeCheck i ctx (Inf e) t = do\n",
    "  t' <- typeInfer i ctx e\n",
    "  unless (t == t') (throwError \"typeCheck Inf case: type mismatch\")\n",
    "typeCheck i ctx (Lam e) (Fun t1 t2) =\n",
    "  typeCheck (i + 1) (ctx |> insert (Local i) (HasType t1)) \n",
    "            (substCheck 0 (Free (Local i)) e)\n",
    "            t2\n",
    "typeCheck i ctx _ _ = throwError \"typeCheck non-case: type mismatch\""
   ]
  },
  {
   "cell_type": "markdown",
   "id": "e6e5d05a-a7d7-4088-878f-66d98d5c206f",
   "metadata": {},
   "source": [
    "## Quotation"
   ]
  },
  {
   "cell_type": "markdown",
   "id": "3b337c96-d75b-4119-a29f-a8859755569f",
   "metadata": {},
   "source": [
    "Quotation converts `Value`s into `Term`s. Recall the problem with values are for lambda values `VLam (Value -> Value)`, which does not allow comparisons and printing to the console.\n",
    "\n",
    "There are two interesting cases for quotation:\n",
    "- `VLam f` increments the bound index `(i + 1)`, and applies `f` to the the bound variable `i`, which we wrap with the `Quote` constructor. We recursively call `quote` on the body.\n",
    "- Variable `NFree x` is checked with `boundFree`:\n",
    "  - If `x` is a `Quote`, it means it is a bound variable. The computation `(i - k - 1)` restores the bound variable level.\n",
    "  - Otherwise, it is a free variable, which we wrap with `Free`"
   ]
  },
  {
   "cell_type": "code",
   "execution_count": 35,
   "id": "1374a0a9-6d3f-4e9d-a68d-5b53ad15d66f",
   "metadata": {
    "tags": []
   },
   "outputs": [],
   "source": [
    "quote0 :: Value -> TermCheck\n",
    "quote0 = quote 0\n",
    "\n",
    "quote :: Int -> Value -> TermCheck\n",
    "quote i (VLam f)     = Lam <| quote (i + 1) (f (vfree <| Quote i))\n",
    "quote i (VNeutral n) = Inf (neutralQuote i n)\n",
    "\n",
    "neutralQuote :: Int -> Neutral -> TermInfer\n",
    "neutralQuote i (NFree x)  = boundfree i x\n",
    "neutralQuote i (NApp n v) = neutralQuote i n :@: quote i v\n",
    "\n",
    "boundfree :: Int -> Name -> TermInfer\n",
    "boundfree i (Quote k) = Bound (i - k - 1)\n",
    "boundfree i x         = Free x"
   ]
  },
  {
   "cell_type": "markdown",
   "id": "15f7fe71-89b5-4599-85cd-7da877c9b1c1",
   "metadata": {},
   "source": [
    "The calculation below shows how `quote` is computed on the value `(VLam (\\x -> VLam (\\y -> x)))`"
   ]
  },
  {
   "cell_type": "markdown",
   "id": "28fed1db-6fa7-45ed-995d-720f9ded3f02",
   "metadata": {},
   "source": [
    "```haskell\n",
    "    quote 0 (VLam (\\x -> VLam (\\y -> x)))\n",
    "  =⟨ `quote` for VLam ⟩\n",
    "    Lam <| quote 1 <| (\\x -> VLam (\\y -> x)) (vfree <| Quote 0)\n",
    "  =⟨ function application ⟩\n",
    "    Lam <| quote 1 <| VLam (\\y -> (vfree <| Quote 0))\n",
    "  =⟨ `quote` for VLam ⟩\n",
    "    Lam <| Lam <| quote 2 (\\y -> (vfree <| Quote 0)) (vfree <| Quote 0)\n",
    "  =⟨ function application ⟩\n",
    "    Lam <| Lam <| quote 2 ((vfree <| Quote 0))\n",
    "  =⟨ definition of `vfree` ⟩\n",
    "    Lam <| Lam <| quote 2 (VNeutral (NFree (Quote 0)))\n",
    "  =⟨ `quote` for VLam ⟩\n",
    "    Lam <| Lam <| Inf (neutralQuote 2 (NFree (Quote 0)))\n",
    "  =⟨ `neutralQuote` for NFree ⟩\n",
    "    Lam <| Lam <| Inf (boundFree 2 (Quote 0))\n",
    "  =⟨ `neutralQuote` for Quote ⟩\n",
    "    Lam <| Lam <| Inf (Bound (2 - 0 - 1))\n",
    "  =⟨ arithmetic ⟩\n",
    "    Lam (Lam (Inf (Bound 1)))\n",
    "```"
   ]
  },
  {
   "cell_type": "code",
   "execution_count": 36,
   "id": "4ab425bf-08d2-40a1-9980-8a21dc4c3a27",
   "metadata": {
    "tags": []
   },
   "outputs": [
    {
     "data": {
      "text/html": [
       "<style>/* Styles used for the Hoogle display in the pager */\n",
       ".hoogle-doc {\n",
       "display: block;\n",
       "padding-bottom: 1.3em;\n",
       "padding-left: 0.4em;\n",
       "}\n",
       ".hoogle-code {\n",
       "display: block;\n",
       "font-family: monospace;\n",
       "white-space: pre;\n",
       "}\n",
       ".hoogle-text {\n",
       "display: block;\n",
       "}\n",
       ".hoogle-name {\n",
       "color: green;\n",
       "font-weight: bold;\n",
       "}\n",
       ".hoogle-head {\n",
       "font-weight: bold;\n",
       "}\n",
       ".hoogle-sub {\n",
       "display: block;\n",
       "margin-left: 0.4em;\n",
       "}\n",
       ".hoogle-package {\n",
       "font-weight: bold;\n",
       "font-style: italic;\n",
       "}\n",
       ".hoogle-module {\n",
       "font-weight: bold;\n",
       "}\n",
       ".hoogle-class {\n",
       "font-weight: bold;\n",
       "}\n",
       ".get-type {\n",
       "color: green;\n",
       "font-weight: bold;\n",
       "font-family: monospace;\n",
       "display: block;\n",
       "white-space: pre-wrap;\n",
       "}\n",
       ".show-type {\n",
       "color: green;\n",
       "font-weight: bold;\n",
       "font-family: monospace;\n",
       "margin-left: 1em;\n",
       "}\n",
       ".mono {\n",
       "font-family: monospace;\n",
       "display: block;\n",
       "}\n",
       ".err-msg {\n",
       "color: red;\n",
       "font-style: italic;\n",
       "font-family: monospace;\n",
       "white-space: pre;\n",
       "display: block;\n",
       "}\n",
       "#unshowable {\n",
       "color: red;\n",
       "font-weight: bold;\n",
       "}\n",
       ".err-msg.in.collapse {\n",
       "padding-top: 0.7em;\n",
       "}\n",
       ".highlight-code {\n",
       "white-space: pre;\n",
       "font-family: monospace;\n",
       "}\n",
       ".suggestion-warning { \n",
       "font-weight: bold;\n",
       "color: rgb(200, 130, 0);\n",
       "}\n",
       ".suggestion-error { \n",
       "font-weight: bold;\n",
       "color: red;\n",
       "}\n",
       ".suggestion-name {\n",
       "font-weight: bold;\n",
       "}\n",
       "</style><div class=\"suggestion-name\" style=\"clear:both;\">Use const</div><div class=\"suggestion-row\" style=\"float: left;\"><div class=\"suggestion-warning\">Found:</div><div class=\"highlight-code\" id=\"haskell\">\\ y -> x</div></div><div class=\"suggestion-row\" style=\"float: left;\"><div class=\"suggestion-warning\">Why Not:</div><div class=\"highlight-code\" id=\"haskell\">const x</div></div>"
      ],
      "text/plain": [
       "Line 1: Use const\n",
       "Found:\n",
       "\\ y -> x\n",
       "Why not:\n",
       "const x"
      ]
     },
     "metadata": {},
     "output_type": "display_data"
    },
    {
     "data": {
      "text/plain": [
       "Lam (Lam (Inf (Bound 1)))"
      ]
     },
     "metadata": {},
     "output_type": "display_data"
    }
   ],
   "source": [
    "quote 0 (VLam (\\x -> VLam (\\y -> x)))"
   ]
  },
  {
   "cell_type": "markdown",
   "id": "1ad7f47f-5b33-4562-a99b-d3983bd92555",
   "metadata": {},
   "source": [
    "## Examples"
   ]
  },
  {
   "cell_type": "code",
   "execution_count": 37,
   "id": "53fecfa6-ae39-4408-9c04-a4e07ec639f9",
   "metadata": {
    "tags": []
   },
   "outputs": [
    {
     "data": {
      "text/html": [
       "<style>/* Styles used for the Hoogle display in the pager */\n",
       ".hoogle-doc {\n",
       "display: block;\n",
       "padding-bottom: 1.3em;\n",
       "padding-left: 0.4em;\n",
       "}\n",
       ".hoogle-code {\n",
       "display: block;\n",
       "font-family: monospace;\n",
       "white-space: pre;\n",
       "}\n",
       ".hoogle-text {\n",
       "display: block;\n",
       "}\n",
       ".hoogle-name {\n",
       "color: green;\n",
       "font-weight: bold;\n",
       "}\n",
       ".hoogle-head {\n",
       "font-weight: bold;\n",
       "}\n",
       ".hoogle-sub {\n",
       "display: block;\n",
       "margin-left: 0.4em;\n",
       "}\n",
       ".hoogle-package {\n",
       "font-weight: bold;\n",
       "font-style: italic;\n",
       "}\n",
       ".hoogle-module {\n",
       "font-weight: bold;\n",
       "}\n",
       ".hoogle-class {\n",
       "font-weight: bold;\n",
       "}\n",
       ".get-type {\n",
       "color: green;\n",
       "font-weight: bold;\n",
       "font-family: monospace;\n",
       "display: block;\n",
       "white-space: pre-wrap;\n",
       "}\n",
       ".show-type {\n",
       "color: green;\n",
       "font-weight: bold;\n",
       "font-family: monospace;\n",
       "margin-left: 1em;\n",
       "}\n",
       ".mono {\n",
       "font-family: monospace;\n",
       "display: block;\n",
       "}\n",
       ".err-msg {\n",
       "color: red;\n",
       "font-style: italic;\n",
       "font-family: monospace;\n",
       "white-space: pre;\n",
       "display: block;\n",
       "}\n",
       "#unshowable {\n",
       "color: red;\n",
       "font-weight: bold;\n",
       "}\n",
       ".err-msg.in.collapse {\n",
       "padding-top: 0.7em;\n",
       "}\n",
       ".highlight-code {\n",
       "white-space: pre;\n",
       "font-family: monospace;\n",
       "}\n",
       ".suggestion-warning { \n",
       "font-weight: bold;\n",
       "color: rgb(200, 130, 0);\n",
       "}\n",
       ".suggestion-error { \n",
       "font-weight: bold;\n",
       "color: red;\n",
       "}\n",
       ".suggestion-name {\n",
       "font-weight: bold;\n",
       "}\n",
       "</style><div class=\"suggestion-name\" style=\"clear:both;\">Use :</div><div class=\"suggestion-row\" style=\"float: left;\"><div class=\"suggestion-warning\">Found:</div><div class=\"highlight-code\" id=\"haskell\">[(Global \"b\", HasKind TypeKind)]\n",
       "  ++ (Dict.toList env1) |> Dict.fromList</div></div><div class=\"suggestion-row\" style=\"float: left;\"><div class=\"suggestion-warning\">Why Not:</div><div class=\"highlight-code\" id=\"haskell\">(Global \"b\", HasKind TypeKind)\n",
       "  : (Dict.toList env1) |> Dict.fromList</div></div><div class=\"suggestion-name\" style=\"clear:both;\">Redundant bracket</div><div class=\"suggestion-row\" style=\"float: left;\"><div class=\"suggestion-warning\">Found:</div><div class=\"highlight-code\" id=\"haskell\">(Dict.toList env1) |> Dict.fromList</div></div><div class=\"suggestion-row\" style=\"float: left;\"><div class=\"suggestion-warning\">Why Not:</div><div class=\"highlight-code\" id=\"haskell\">Dict.toList env1 |> Dict.fromList</div></div>"
      ],
      "text/plain": [
       "Line 14: Use :\n",
       "Found:\n",
       "[(Global \"b\", HasKind TypeKind)]\n",
       "  ++ (Dict.toList env1) |> Dict.fromList\n",
       "Why not:\n",
       "(Global \"b\", HasKind TypeKind)\n",
       "  : (Dict.toList env1) |> Dict.fromListLine 14: Redundant bracket\n",
       "Found:\n",
       "(Dict.toList env1) |> Dict.fromList\n",
       "Why not:\n",
       "Dict.toList env1 |> Dict.fromList"
      ]
     },
     "metadata": {},
     "output_type": "display_data"
    }
   ],
   "source": [
    "id'    = Lam (Inf (Bound 0))\n",
    "const' = Lam (Lam (Inf (Bound 1)))\n",
    "\n",
    "tfree a = TFree (Global a)\n",
    "free x  = Inf (Free (Global x))\n",
    "\n",
    "term1 = Ann id' (Fun (tfree \"a\") (tfree \"a\"))  :@:  free \"y\"\n",
    "term2 = Ann const' (Fun (Fun (tfree \"b\") (tfree \"b\"))\n",
    "                        (Fun (tfree \"a\")\n",
    "                              (Fun (tfree \"b\") (tfree \"b\"))))\n",
    "        :@: id' :@: free \"y\"\n",
    "env1 = [(Global \"y\", HasType (tfree \"a\")),\n",
    "        (Global \"a\", HasKind TypeKind)] |> Dict.fromList\n",
    "env2 = [(Global \"b\", HasKind TypeKind)] ++ (Dict.toList env1) |> Dict.fromList"
   ]
  },
  {
   "cell_type": "code",
   "execution_count": 38,
   "id": "0357852d-6d1a-481a-bd41-b6130d17e676",
   "metadata": {
    "tags": []
   },
   "outputs": [
    {
     "data": {
      "text/plain": [
       "Inf (Free (Global \"y\"))"
      ]
     },
     "metadata": {},
     "output_type": "display_data"
    }
   ],
   "source": [
    "quote0 (evalInfer term1 [])"
   ]
  },
  {
   "cell_type": "code",
   "execution_count": 39,
   "id": "5a37f482-b4ed-4a21-808d-9f96d088ee1f",
   "metadata": {
    "tags": []
   },
   "outputs": [
    {
     "data": {
      "text/plain": [
       "Lam (Inf (Bound 0))"
      ]
     },
     "metadata": {},
     "output_type": "display_data"
    }
   ],
   "source": [
    "quote0 (evalInfer term2 [])"
   ]
  },
  {
   "cell_type": "code",
   "execution_count": 40,
   "id": "86f5a724-0f7a-4e86-b993-426d977c4075",
   "metadata": {
    "tags": []
   },
   "outputs": [
    {
     "data": {
      "text/plain": [
       "Right (TFree (Global \"a\"))"
      ]
     },
     "metadata": {},
     "output_type": "display_data"
    }
   ],
   "source": [
    "typeInfer0 env1 term1"
   ]
  },
  {
   "cell_type": "code",
   "execution_count": 41,
   "id": "4643f8aa-2eb2-419a-91c3-9362a9f684bf",
   "metadata": {
    "tags": []
   },
   "outputs": [
    {
     "data": {
      "text/plain": [
       "Right (Fun (TFree (Global \"b\")) (TFree (Global \"b\")))"
      ]
     },
     "metadata": {},
     "output_type": "display_data"
    }
   ],
   "source": [
    "typeInfer0 env2 term2"
   ]
  },
  {
   "cell_type": "markdown",
   "id": "58d515ee-c182-43e4-a739-d2f196578efa",
   "metadata": {},
   "source": [
    "# Dependent Types"
   ]
  },
  {
   "cell_type": "markdown",
   "id": "f59ab2ab-e69c-460f-bf91-40cd8e0fccc2",
   "metadata": {},
   "source": [
    "## Polymorphic Functions"
   ]
  },
  {
   "cell_type": "markdown",
   "id": "8d5d9efe-700b-4e6e-9373-4de3e652db7f",
   "metadata": {},
   "source": [
    "In Haskell (and Elm), we can define polymorphic functions. For instance, the identity function that returns the input value itself:"
   ]
  },
  {
   "cell_type": "code",
   "execution_count": 42,
   "id": "94580770-eeb3-48b1-a9d0-5815d5b643e9",
   "metadata": {
    "tags": []
   },
   "outputs": [],
   "source": [
    "myIdentity :: a -> a\n",
    "myIdentity x = x"
   ]
  },
  {
   "cell_type": "markdown",
   "id": "1a4ae682-10b4-45e2-993a-50c030d8c587",
   "metadata": {},
   "source": [
    "There is an implicit quantifier on `a` here - we can write this mathematically:\n",
    "```haskell\n",
    "id :: ∀ α. α -> α\n",
    "id = λ x -> x\n",
    "```"
   ]
  },
  {
   "cell_type": "markdown",
   "id": "012059bd-d42b-44f0-b61a-fd6ef6cad952",
   "metadata": {},
   "source": [
    "We can make polymorphic calls explicit by instantiating the type. Hence, the identity function takes *two* arguments: a type for `α` and a value of type `α`:\n",
    "\n",
    "```haskell\n",
    "id :: ∀ α. α -> α\n",
    "id = λ (α :: *) (x :: α) -> x\n",
    "\n",
    "id Bool True :: Bool\n",
    "id Int 3 :: Int\n",
    "```"
   ]
  },
  {
   "cell_type": "markdown",
   "id": "37f7e11d-a645-4b7c-b43e-974b2800e3e8",
   "metadata": {},
   "source": [
    "## Dependent Function Space"
   ]
  },
  {
   "cell_type": "markdown",
   "id": "5d60f604-e533-4167-8e2a-53241d0d219b",
   "metadata": {},
   "source": [
    "In languages like C and Java, we can declare arrays with an associated length. For example `int[3]` is an array of integers of length 3.\n",
    "\n",
    "Notice the number 3 is part of the type declaration. Say we want to do the same for Haskell lists (called vectors, or `Vec`):\n",
    "\n",
    "```haskell\n",
    "intList3 :: Vec 3 Int\n",
    "intList3 = [3, 5, 7]\n",
    "```\n",
    "\n",
    "Unfortunately, the number 3 is a value. It is not a type!"
   ]
  },
  {
   "cell_type": "markdown",
   "id": "4bbe5f1c-bddd-431c-8e90-e703155c2e15",
   "metadata": {},
   "source": [
    "Let's allow any value to be types for the moment. We can then, for instance, declare the identity function over vec:\n",
    "\n",
    "```haskell\n",
    "∀ α :: * .∀ n :: Nat.∀ v :: Vec α n. Vec α n\n",
    "```\n",
    "\n",
    "This term `∀ x :: ρ. ρ'` is called the *dependent function space*. It generalizes from `ρ → ρ'`"
   ]
  },
  {
   "cell_type": "markdown",
   "id": "1e2101b3-c92c-4451-aa3a-2faeeb7d3713",
   "metadata": {},
   "source": [
    "Since the `v` is redundant in `Vec` above, we can use the ordinary function arrow instead, and rewrite as follows:\n",
    "\n",
    "```haskell\n",
    "∀ α :: * .∀ n :: Nat.Vec α n → Vec α n\n",
    "```"
   ]
  },
  {
   "cell_type": "markdown",
   "id": "cc6ea975-16e1-44dc-9071-55d3e051f2f1",
   "metadata": {},
   "source": [
    "## Definitions"
   ]
  },
  {
   "cell_type": "markdown",
   "id": "8125aa80-402c-4bb2-a1ad-0c71bc0cb460",
   "metadata": {},
   "source": [
    "### Terms"
   ]
  },
  {
   "cell_type": "markdown",
   "id": "b9fd2dd2-8fbf-4df9-a154-e8a067b23f2b",
   "metadata": {},
   "source": [
    "Since types can be any value, we do not need a separate type for type-level constructs and term-level constructs. The only difference in `TermInfer` is the introduction of `Pi` for the dependent function space.\n",
    "\n",
    "The abstract syntax is given as follows. Note that `ρ` and `κ` refer to terms that play the role of types or kinds respectively\n",
    "```\n",
    "e, ρ, κ ::= e :: ρ        annotated term\n",
    "         |  *             the type of types\n",
    "         |  ∀ x :: ρ. ρ'  dependent function space\n",
    "         |  x             variable\n",
    "         |  e e'          application\n",
    "         |  λ x → e       lambda abstraction\n",
    "```         "
   ]
  },
  {
   "cell_type": "code",
   "execution_count": 43,
   "id": "0efc80e9-d395-4998-8870-46095cc26ae7",
   "metadata": {},
   "outputs": [],
   "source": [
    "data TermInfer =\n",
    "    Ann TermCheck TermCheck\n",
    "  | TypeKind\n",
    "  | Pi TermCheck TermCheck\n",
    "  | Bound Int\n",
    "  | Free Name\n",
    "  | TermInfer :@: TermCheck\n",
    "  deriving (Show, Eq)\n",
    "  \n",
    "data TermCheck\n",
    "  = Inf  TermInfer\n",
    "  | Lam  TermCheck\n",
    "  deriving (Show, Eq)"
   ]
  },
  {
   "cell_type": "markdown",
   "id": "c6c6b6cd-c51a-414a-b23a-4a1267d3455d",
   "metadata": {},
   "source": [
    "### Values"
   ]
  },
  {
   "cell_type": "markdown",
   "id": "1a5abeff-b4a4-4973-a12b-c72017e9dcdc",
   "metadata": {},
   "source": [
    "Two additional constructors must be added to `Value` since types are also terms:\n",
    "- `VTypeKind`, indicating terms that are kinded as a type\n",
    "- `VPi`, indicating a ∀ term. The second argument is `Value -> Value`, similar to `VLam`\n",
    "\n",
    "The definition follows the abstract syntax:\n",
    "```\n",
    "v, τ ::= n             neutral term\n",
    "      |  *             the type of types\n",
    "      |  ∀ x :: τ. τ'  dependent function space\n",
    "      |  λ x → v       lambda abstraction\n",
    "```"
   ]
  },
  {
   "cell_type": "code",
   "execution_count": 44,
   "id": "71348499-4db4-4476-8dcd-afa1f4350298",
   "metadata": {
    "tags": []
   },
   "outputs": [],
   "source": [
    "data Value =\n",
    "    VLam (Value -> Value)\n",
    "  | VTypeKind\n",
    "  | VPi Value (Value -> Value)\n",
    "  | VNeutral Neutral\n",
    "\n",
    "data Neutral\n",
    "  = NFree Name\n",
    "  | NApp Neutral Value\n",
    "  \n",
    "vfree :: Name -> Value\n",
    "vfree n = VNeutral (NFree n)"
   ]
  },
  {
   "cell_type": "markdown",
   "id": "e9ee190f-23d1-4ad5-9a84-8f169427f8ee",
   "metadata": {},
   "source": [
    "## Evaluation"
   ]
  },
  {
   "cell_type": "markdown",
   "id": "1b1f2610-d118-490f-8403-40637753060f",
   "metadata": {},
   "source": [
    "Substitution remains almost the same - but we have additional cases for `TypeKind` and `Pi`:"
   ]
  },
  {
   "cell_type": "code",
   "execution_count": 45,
   "id": "5d513076-638d-44b7-92d6-c77b5d1a74c3",
   "metadata": {
    "tags": []
   },
   "outputs": [],
   "source": [
    "substInfer :: Int -> TermInfer -> TermInfer -> TermInfer\n",
    "substInfer i r (Ann e t)   = Ann (substCheck i r e) t\n",
    "substInfer i r (Bound j)   = if i == j then r else Bound j\n",
    "substInfer i r (Free y)    = Free y\n",
    "substInfer i r (e1 :@: e2) = substInfer i r e1 :@: substCheck i r e2\n",
    "-- new cases\n",
    "substInfer i r TypeKind    = TypeKind\n",
    "substInfer i r (Pi t1 t2)  = Pi (substCheck i r t1) (substCheck (i + 1) r t2)\n",
    "\n",
    "substCheck :: Int -> TermInfer -> TermCheck -> TermCheck\n",
    "substCheck i r (Inf e)  = Inf (substInfer i r e)\n",
    "substCheck i r (Lam e)  = Lam (substCheck (i + 1) r e)\n",
    "\n",
    "vapp :: Value -> Value -> Value\n",
    "vapp (VLam f)     v = f v\n",
    "vapp (VNeutral n) v = VNeutral (NApp n v)"
   ]
  },
  {
   "cell_type": "markdown",
   "id": "71f3ef45-ac07-444d-b63e-94f9550da4b2",
   "metadata": {},
   "source": [
    "Evaluation is also the same, with two additional cases for `TypeKind` and `Pi`.\n",
    "\n",
    "The judgment rules also reflect these additions:\n",
    "\n",
    "<img style=\"float:left;border-left:6em solid white\" src=\"./assets/dep-eval.jpg\"/>"
   ]
  },
  {
   "cell_type": "code",
   "execution_count": 46,
   "id": "ec4e2790-ec99-40b4-942b-111fd3f734ee",
   "metadata": {
    "tags": []
   },
   "outputs": [],
   "source": [
    "type Env = [Value]\n",
    "\n",
    "evalInfer :: TermInfer -> Env -> Value\n",
    "evalInfer (Ann e _)  d = evalCheck e d\n",
    "evalInfer (Free x)   d = vfree x\n",
    "evalInfer (Bound i)  d = d !! i\n",
    "evalInfer (e :@: e') d = vapp (evalInfer e d) (evalCheck e' d)\n",
    "-- new cases\n",
    "evalInfer TypeKind   d = VTypeKind\n",
    "evalInfer (Pi t1 t2) d = VPi (evalCheck t1 d) (\\x -> evalCheck t2 (x : d))\n",
    "\n",
    "evalCheck :: TermCheck -> Env -> Value\n",
    "evalCheck (Inf  i) d = evalInfer i d\n",
    "evalCheck (Lam  e) d = VLam (\\x -> evalCheck e (x : d))"
   ]
  },
  {
   "cell_type": "markdown",
   "id": "7d536d5f-c2a4-4aff-8935-d0c1e6ae4aad",
   "metadata": {},
   "source": [
    "## Quotation"
   ]
  },
  {
   "cell_type": "markdown",
   "id": "f0cdb84f-a709-42f0-808e-e396022a8427",
   "metadata": {},
   "source": [
    "`quote` has two additional cases also for `VPi` and `VTypeKind`"
   ]
  },
  {
   "cell_type": "code",
   "execution_count": 47,
   "id": "64ffcd4c-142a-4383-9330-7b9fa5c5db73",
   "metadata": {
    "tags": []
   },
   "outputs": [],
   "source": [
    "quote0 :: Value -> TermCheck\n",
    "quote0 = quote 0\n",
    "\n",
    "quote :: Int -> Value -> TermCheck\n",
    "quote i (VLam f)     = Lam <| quote (i + 1) (f (vfree <| Quote i))\n",
    "quote i (VNeutral n) = Inf (neutralQuote i n)\n",
    "quote i VTypeKind    = Inf TypeKind\n",
    "quote i (VPi v f)    = Inf (Pi (quote i v) (quote (i + 1) (f (vfree (Quote i)))))\n",
    "\n",
    "neutralQuote :: Int -> Neutral -> TermInfer\n",
    "neutralQuote i (NFree x)  = boundfree i x\n",
    "neutralQuote i (NApp n v) = neutralQuote i n :@: quote i v\n",
    "\n",
    "boundfree :: Int -> Name -> TermInfer\n",
    "boundfree i (Quote k) = Bound (i - k - 1)\n",
    "boundfree i x         = Free x"
   ]
  },
  {
   "cell_type": "code",
   "execution_count": 48,
   "id": "19f509a4-a7d8-4400-bc59-21d6a436583d",
   "metadata": {
    "tags": []
   },
   "outputs": [
    {
     "data": {
      "text/html": [
       "<style>/* Styles used for the Hoogle display in the pager */\n",
       ".hoogle-doc {\n",
       "display: block;\n",
       "padding-bottom: 1.3em;\n",
       "padding-left: 0.4em;\n",
       "}\n",
       ".hoogle-code {\n",
       "display: block;\n",
       "font-family: monospace;\n",
       "white-space: pre;\n",
       "}\n",
       ".hoogle-text {\n",
       "display: block;\n",
       "}\n",
       ".hoogle-name {\n",
       "color: green;\n",
       "font-weight: bold;\n",
       "}\n",
       ".hoogle-head {\n",
       "font-weight: bold;\n",
       "}\n",
       ".hoogle-sub {\n",
       "display: block;\n",
       "margin-left: 0.4em;\n",
       "}\n",
       ".hoogle-package {\n",
       "font-weight: bold;\n",
       "font-style: italic;\n",
       "}\n",
       ".hoogle-module {\n",
       "font-weight: bold;\n",
       "}\n",
       ".hoogle-class {\n",
       "font-weight: bold;\n",
       "}\n",
       ".get-type {\n",
       "color: green;\n",
       "font-weight: bold;\n",
       "font-family: monospace;\n",
       "display: block;\n",
       "white-space: pre-wrap;\n",
       "}\n",
       ".show-type {\n",
       "color: green;\n",
       "font-weight: bold;\n",
       "font-family: monospace;\n",
       "margin-left: 1em;\n",
       "}\n",
       ".mono {\n",
       "font-family: monospace;\n",
       "display: block;\n",
       "}\n",
       ".err-msg {\n",
       "color: red;\n",
       "font-style: italic;\n",
       "font-family: monospace;\n",
       "white-space: pre;\n",
       "display: block;\n",
       "}\n",
       "#unshowable {\n",
       "color: red;\n",
       "font-weight: bold;\n",
       "}\n",
       ".err-msg.in.collapse {\n",
       "padding-top: 0.7em;\n",
       "}\n",
       ".highlight-code {\n",
       "white-space: pre;\n",
       "font-family: monospace;\n",
       "}\n",
       ".suggestion-warning { \n",
       "font-weight: bold;\n",
       "color: rgb(200, 130, 0);\n",
       "}\n",
       ".suggestion-error { \n",
       "font-weight: bold;\n",
       "color: red;\n",
       "}\n",
       ".suggestion-name {\n",
       "font-weight: bold;\n",
       "}\n",
       "</style><div class=\"suggestion-name\" style=\"clear:both;\">Use const</div><div class=\"suggestion-row\" style=\"float: left;\"><div class=\"suggestion-warning\">Found:</div><div class=\"highlight-code\" id=\"haskell\">\\ y -> x</div></div><div class=\"suggestion-row\" style=\"float: left;\"><div class=\"suggestion-warning\">Why Not:</div><div class=\"highlight-code\" id=\"haskell\">const x</div></div>"
      ],
      "text/plain": [
       "Line 1: Use const\n",
       "Found:\n",
       "\\ y -> x\n",
       "Why not:\n",
       "const x"
      ]
     },
     "metadata": {},
     "output_type": "display_data"
    },
    {
     "data": {
      "text/plain": [
       "Lam (Lam (Inf (Bound 1)))"
      ]
     },
     "metadata": {},
     "output_type": "display_data"
    }
   ],
   "source": [
    "quote 0 (VLam (\\x -> VLam (\\y -> x)))"
   ]
  },
  {
   "cell_type": "markdown",
   "id": "1fc063a0-4ba4-4551-899a-d473a8b86902",
   "metadata": {},
   "source": [
    "## Contexts"
   ]
  },
  {
   "cell_type": "markdown",
   "id": "44f01471-7df7-452e-8e8b-61b9a42f1026",
   "metadata": {},
   "source": [
    "Since `Types` are now `Values`, we can then alias them accordingly. This also simplifies the `Context` to map `Names` to `Types` directly.\n",
    "\n",
    "<img style=\"float:left;border-left:6em solid white\" src=\"./assets/dep-ctx.jpg\"/>"
   ]
  },
  {
   "cell_type": "code",
   "execution_count": 49,
   "id": "7852e285-2c2c-4cf2-90c5-9b53e3b622ae",
   "metadata": {
    "tags": []
   },
   "outputs": [],
   "source": [
    "type Type    = Value\n",
    "type Context = Dict Name Type"
   ]
  },
  {
   "cell_type": "markdown",
   "id": "8c9fb2cb-9af1-4f51-8e97-59b8e4687e67",
   "metadata": {},
   "source": [
    "## Type Checking"
   ]
  },
  {
   "cell_type": "markdown",
   "id": "26464e48-5faa-4f1f-a5eb-f95b20b97447",
   "metadata": {},
   "source": [
    "<img style=\"float:left;border-left:2em solid white\" src=\"./assets/dep-tycheck.jpg\"/>"
   ]
  },
  {
   "cell_type": "markdown",
   "id": "c221bdff-b346-4571-a748-989b2633c20e",
   "metadata": {},
   "source": [
    "Type checking introduces two new cases for `TypeKind` and `Pi`, and modifications to `Ann`, `App` and `Lam`. The biggest change to the rules involve evaluation; certain terms require evaluating subterms.\n",
    "\n",
    "- The `TypeKind` term resolves to itself.\n",
    "- Dependent function space `Pi` requires some work:\n",
    "  1. The bound term `p` is typechecked to ensure it is of `TypeKind`\n",
    "  2. Then, `p` is evaluated down to a type value `τ`\n",
    "  3. The type body `p'` is then typechecked to ensure it is also of `TypeKind`, after inserting `x :: τ` into the environment\n",
    "  \n",
    "Modifications include the following:\n",
    "- `Ann` checks that the annotation `p` is `TypeKind`. Then we evaluate `p` to `τ` and use it to check the term `e`\n",
    "- `App` now checks `e` to be the dependent function space instead of the original function arrow\n",
    "- `Lam` now expects the dependent function space instead of the function arrow"
   ]
  },
  {
   "cell_type": "code",
   "execution_count": 50,
   "id": "c0dc494b-ae0b-49a9-b63d-aca4aa0a39d5",
   "metadata": {
    "tags": []
   },
   "outputs": [
    {
     "data": {
      "text/html": [
       "<style>/* Styles used for the Hoogle display in the pager */\n",
       ".hoogle-doc {\n",
       "display: block;\n",
       "padding-bottom: 1.3em;\n",
       "padding-left: 0.4em;\n",
       "}\n",
       ".hoogle-code {\n",
       "display: block;\n",
       "font-family: monospace;\n",
       "white-space: pre;\n",
       "}\n",
       ".hoogle-text {\n",
       "display: block;\n",
       "}\n",
       ".hoogle-name {\n",
       "color: green;\n",
       "font-weight: bold;\n",
       "}\n",
       ".hoogle-head {\n",
       "font-weight: bold;\n",
       "}\n",
       ".hoogle-sub {\n",
       "display: block;\n",
       "margin-left: 0.4em;\n",
       "}\n",
       ".hoogle-package {\n",
       "font-weight: bold;\n",
       "font-style: italic;\n",
       "}\n",
       ".hoogle-module {\n",
       "font-weight: bold;\n",
       "}\n",
       ".hoogle-class {\n",
       "font-weight: bold;\n",
       "}\n",
       ".get-type {\n",
       "color: green;\n",
       "font-weight: bold;\n",
       "font-family: monospace;\n",
       "display: block;\n",
       "white-space: pre-wrap;\n",
       "}\n",
       ".show-type {\n",
       "color: green;\n",
       "font-weight: bold;\n",
       "font-family: monospace;\n",
       "margin-left: 1em;\n",
       "}\n",
       ".mono {\n",
       "font-family: monospace;\n",
       "display: block;\n",
       "}\n",
       ".err-msg {\n",
       "color: red;\n",
       "font-style: italic;\n",
       "font-family: monospace;\n",
       "white-space: pre;\n",
       "display: block;\n",
       "}\n",
       "#unshowable {\n",
       "color: red;\n",
       "font-weight: bold;\n",
       "}\n",
       ".err-msg.in.collapse {\n",
       "padding-top: 0.7em;\n",
       "}\n",
       ".highlight-code {\n",
       "white-space: pre;\n",
       "font-family: monospace;\n",
       "}\n",
       ".suggestion-warning { \n",
       "font-weight: bold;\n",
       "color: rgb(200, 130, 0);\n",
       "}\n",
       ".suggestion-error { \n",
       "font-weight: bold;\n",
       "color: red;\n",
       "}\n",
       ".suggestion-name {\n",
       "font-weight: bold;\n",
       "}\n",
       "</style><div class=\"suggestion-name\" style=\"clear:both;\">Eta reduce</div><div class=\"suggestion-row\" style=\"float: left;\"><div class=\"suggestion-warning\">Found:</div><div class=\"highlight-code\" id=\"haskell\">typeInfer0 ctx term = typeInfer 0 ctx term</div></div><div class=\"suggestion-row\" style=\"float: left;\"><div class=\"suggestion-warning\">Why Not:</div><div class=\"highlight-code\" id=\"haskell\">typeInfer0 = typeInfer 0</div></div>"
      ],
      "text/plain": [
       "Line 2: Eta reduce\n",
       "Found:\n",
       "typeInfer0 ctx term = typeInfer 0 ctx term\n",
       "Why not:\n",
       "typeInfer0 = typeInfer 0"
      ]
     },
     "metadata": {},
     "output_type": "display_data"
    }
   ],
   "source": [
    "typeInfer0 :: Context -> TermInfer -> Result Type\n",
    "typeInfer0 ctx term = typeInfer 0 ctx term\n",
    "\n",
    "typeInfer :: Int -> Context -> TermInfer -> Result Type\n",
    "typeInfer i ctx (Ann e p) = do\n",
    "  typeCheck i ctx p VTypeKind\n",
    "  let t = evalCheck p []\n",
    "  typeCheck i ctx e t\n",
    "  return t\n",
    "typeInfer i ctx TypeKind = return VTypeKind\n",
    "typeInfer i ctx (Pi p1 p2) = do\n",
    "  typeCheck i ctx p1 VTypeKind\n",
    "  let t = evalCheck p1 []\n",
    "  typeCheck (i + 1) (ctx |> insert (Local i) t) (substCheck 0 (Free (Local i)) p2) VTypeKind\n",
    "  return VTypeKind\n",
    "typeInfer i ctx (Free x) = \n",
    "  case get x ctx of\n",
    "    Just t           -> return t\n",
    "    Nothing          -> throwError \"typeInfer Free case: unknown identifier\"\n",
    "typeInfer i ctx (e1 :@: e2) = do\n",
    "  vDepPair <- typeInfer i ctx e1 \n",
    "  case vDepPair of\n",
    "    VPi t1 t2 -> do\n",
    "      typeCheck i ctx e2 t1\n",
    "      return (t2 <| evalCheck e2 [])\n",
    "    _ -> throwError \"typeInfer :@: case: illegal application\"\n",
    "    \n",
    "typeCheck :: Int -> Context -> TermCheck -> Type -> Result ()\n",
    "typeCheck i ctx (Inf e) v = do\n",
    "  v' <- typeInfer i ctx e \n",
    "  unless (quote0 v == quote0 v') (throwError \"typeCheck Inf case: type mismatch\")\n",
    "typeCheck i ctx (Lam e) (VPi t1 t2) =\n",
    "  typeCheck (i + 1) (ctx |> insert (Local i) t1)\n",
    "            (substCheck 0 (Free (Local i)) e) (t2 (vfree (Local i)))\n",
    "typeCheck i ctx _ _ = throwError \"typeCheck non-case: type mismatch\""
   ]
  },
  {
   "cell_type": "markdown",
   "id": "5e93f74c-bfb4-4678-b649-5aff6c3ad165",
   "metadata": {},
   "source": [
    "## Examples"
   ]
  },
  {
   "cell_type": "code",
   "execution_count": 51,
   "id": "d753242f-ea05-4772-8321-f6ef3cbf0173",
   "metadata": {
    "tags": []
   },
   "outputs": [],
   "source": [
    "id' = Lam (Lam (Inf <| Bound 0))\n",
    "free x  = Inf (Free (Global x))\n",
    "tfree x = Free (Global x)\n",
    "\n",
    "\n",
    "-- ∀ x :: *. ∀ \n",
    "typeId = Inf (Pi (Inf TypeKind) (Inf <| Pi (Inf <| Bound 0) (Inf <| Bound 1)))\n",
    "termId = Ann id' typeId"
   ]
  },
  {
   "cell_type": "code",
   "execution_count": 52,
   "id": "893d310e-91ec-4528-823a-4d326e5afc96",
   "metadata": {
    "tags": []
   },
   "outputs": [
    {
     "data": {
      "text/plain": [
       "Inf (Pi (Inf TypeKind) (Inf (Pi (Inf (Bound 0)) (Inf (Bound 1)))))"
      ]
     },
     "metadata": {},
     "output_type": "display_data"
    }
   ],
   "source": [
    "quote0 <| evalCheck typeId []"
   ]
  },
  {
   "cell_type": "code",
   "execution_count": 53,
   "id": "9c36f028-1e82-4fa5-ab27-bd49cc73bc38",
   "metadata": {
    "tags": []
   },
   "outputs": [
    {
     "data": {
      "text/plain": [
       "Lam (Lam (Inf (Bound 0)))"
      ]
     },
     "metadata": {},
     "output_type": "display_data"
    }
   ],
   "source": [
    "quote0 (evalInfer termId [])"
   ]
  },
  {
   "cell_type": "code",
   "execution_count": 54,
   "id": "cd9acad0-27df-4667-8216-48cd842856e5",
   "metadata": {
    "tags": []
   },
   "outputs": [],
   "source": [
    "boolType = Inf <| Ann (free \"Bool\") (Inf TypeKind)\n",
    "falseTerm = Inf <| Ann (free \"False\") (free \"Bool\")"
   ]
  },
  {
   "cell_type": "code",
   "execution_count": 55,
   "id": "e67dfab3-3fff-4654-a7b0-8c1a93c762e1",
   "metadata": {
    "tags": []
   },
   "outputs": [],
   "source": [
    "fakeType = Inf <| Ann (free \"Fake\") (Inf TypeKind)\n",
    "fakeTerm = Inf <| Ann (free \"FakeTerm\") (free \"Fake\")"
   ]
  },
  {
   "cell_type": "code",
   "execution_count": 56,
   "id": "fc918c27-d735-4ca0-af70-1a6a9f106fde",
   "metadata": {
    "tags": []
   },
   "outputs": [
    {
     "data": {
      "text/plain": [
       "Lam (Inf (Bound 0))"
      ]
     },
     "metadata": {},
     "output_type": "display_data"
    }
   ],
   "source": [
    "quote0 (evalInfer (termId :@: boolType) [])"
   ]
  },
  {
   "cell_type": "code",
   "execution_count": 57,
   "id": "aeb37aef-752e-48b8-a604-1ed979108fd1",
   "metadata": {
    "tags": []
   },
   "outputs": [
    {
     "data": {
      "text/plain": [
       "Inf (Free (Global \"False\"))"
      ]
     },
     "metadata": {},
     "output_type": "display_data"
    }
   ],
   "source": [
    "quote0 (evalInfer (termId :@: boolType :@: falseTerm) [])"
   ]
  },
  {
   "cell_type": "code",
   "execution_count": 58,
   "id": "8447525e-9636-4384-813d-8fb26ba942b3",
   "metadata": {
    "tags": []
   },
   "outputs": [
    {
     "data": {
      "text/plain": [
       "Inf (Free (Global \"FakeTerm\"))"
      ]
     },
     "metadata": {},
     "output_type": "display_data"
    }
   ],
   "source": [
    "quote0 (evalInfer (termId :@: boolType :@: fakeTerm) [])"
   ]
  },
  {
   "cell_type": "code",
   "execution_count": 59,
   "id": "29076cc2-9882-421d-87de-b098a7ef59b0",
   "metadata": {
    "tags": []
   },
   "outputs": [
    {
     "data": {
      "text/plain": [
       "Left \"typeCheck Inf case: type mismatch\""
      ]
     },
     "metadata": {},
     "output_type": "display_data"
    }
   ],
   "source": [
    "ctx = \n",
    "  Dict.fromList <|\n",
    "     [(Global \"Bool\", VTypeKind), (Global \"False\", vfree <| Global \"Bool\")] \n",
    "  ++ [(Global \"Fake\", VTypeKind), (Global \"FakeTerm\", vfree <| Global \"Fake\")]\n",
    "runInfer = do\n",
    "  res <- typeInfer0 ctx (termId :@: boolType :@: fakeTerm)\n",
    "  pure $ quote0 res\n",
    "runInfer"
   ]
  },
  {
   "cell_type": "markdown",
   "id": "f1a11c6a-a8e3-4233-a676-a2bf1d79b569",
   "metadata": {},
   "source": [
    "# Dependent Data Types: Natural Numbers"
   ]
  },
  {
   "cell_type": "markdown",
   "id": "58feb271-c559-424e-abd6-13cb07314f4f",
   "metadata": {},
   "source": [
    "The syntax can be extended with natural numbers.\n",
    "\n",
    "In Haskell, we could define the `Nat` data type and define addition over natural numbers:"
   ]
  },
  {
   "cell_type": "code",
   "execution_count": null,
   "id": "8f5ec322-45e1-4bc6-92f5-8a43596efde9",
   "metadata": {
    "tags": []
   },
   "outputs": [],
   "source": [
    "data Nat = Zero | Succ Nat\n",
    "\n",
    "plus :: Nat -> Nat -> Nat\n",
    "plus Zero n      = n\n",
    "plus (Succ k) n  = Succ (plus k n)"
   ]
  },
  {
   "cell_type": "markdown",
   "id": "cb65e0d8-20da-45c2-8529-c89be2766111",
   "metadata": {},
   "source": [
    "Our dependently typed language cannot dop pattern patches or make recursive calls. One way around it is to define an *eliminator*."
   ]
  },
  {
   "cell_type": "markdown",
   "id": "e8fd184c-7a08-48f2-aca4-f8ed785d862e",
   "metadata": {},
   "source": [
    "Natural numbers can be *folded* using the following type:\n",
    "\n",
    "```haskell\n",
    "foldNat :: ∀α :: *.α → (α → α) → Nat → α\n",
    "```\n",
    "\n",
    "The eliminator makes clearer what `α` should be: we use `m :: Nat -> *`:\n",
    "\n",
    "```haskell\n",
    "natElim :: ∀m :: Nat → *.    m Zero\n",
    "                     → (∀l :: Nat.m l → m (Succ l))\n",
    "                     → ∀k :: Nat. m k\n",
    "```"
   ]
  },
  {
   "cell_type": "markdown",
   "id": "7a5c35bf-7d60-4aa1-b129-60053bd3d912",
   "metadata": {},
   "source": [
    "## Definitions"
   ]
  },
  {
   "cell_type": "markdown",
   "id": "19690e30-3e7f-4064-b36b-7a0449888cbd",
   "metadata": {},
   "source": [
    "### Terms"
   ]
  },
  {
   "cell_type": "markdown",
   "id": "6c635072-ff73-4fdf-af05-b854c8b527a0",
   "metadata": {},
   "source": [
    "Four new constructors are introduced. Note that `Succ` and `NatElim` all take checkable terms for their arguments."
   ]
  },
  {
   "cell_type": "code",
   "execution_count": 60,
   "id": "553aa14a-e8fb-45a0-98a7-e8c07e8060a2",
   "metadata": {},
   "outputs": [],
   "source": [
    "data TermInfer =\n",
    "    Ann TermCheck TermCheck\n",
    "  | TypeKind\n",
    "  | Pi TermCheck TermCheck\n",
    "  | Bound Int\n",
    "  | Free Name\n",
    "  | TermInfer :@: TermCheck\n",
    "  | Nat\n",
    "  | NatElim TermCheck TermCheck TermCheck TermCheck\n",
    "  | Zero\n",
    "  | Succ TermCheck\n",
    "  deriving (Show, Eq)\n",
    "  \n",
    "data TermCheck\n",
    "  = Inf  TermInfer\n",
    "  | Lam  TermCheck\n",
    "  deriving (Show, Eq)"
   ]
  },
  {
   "cell_type": "markdown",
   "id": "8b34983e-00e3-4860-8079-83bb233715ec",
   "metadata": {},
   "source": [
    "### Values"
   ]
  },
  {
   "cell_type": "markdown",
   "id": "f17183d8-ff0c-40a8-af2f-f5a714cf87d5",
   "metadata": {},
   "source": [
    "The nat constructors have corresponding values; we have `NNatElim` as a neutral value, as there will be cases where the eliminator for natural numbers can be stuck when the number being eliminated does not evaluate to a constructor."
   ]
  },
  {
   "cell_type": "code",
   "execution_count": 61,
   "id": "058a30ff-0e4a-4d99-92b1-659c28bdb355",
   "metadata": {},
   "outputs": [],
   "source": [
    "data Value =\n",
    "    VLam (Value -> Value)\n",
    "  | VTypeKind\n",
    "  | VPi Value (Value -> Value)\n",
    "  | VNeutral Neutral\n",
    "  | VNat\n",
    "  | VZero\n",
    "  | VSucc Value\n",
    "\n",
    "data Neutral\n",
    "  = NFree Name\n",
    "  | NApp Neutral Value\n",
    "  | NNatElim Value Value Value Neutral\n",
    "  \n",
    "vfree :: Name -> Value\n",
    "vfree n = VNeutral (NFree n)"
   ]
  },
  {
   "cell_type": "markdown",
   "id": "eab3c388-430d-463e-9590-024b47268d77",
   "metadata": {},
   "source": [
    "## Evaluation"
   ]
  },
  {
   "cell_type": "code",
   "execution_count": 62,
   "id": "a7eb9ff6-7ecc-4fd4-8504-5b849d4216c8",
   "metadata": {},
   "outputs": [],
   "source": [
    "substInfer :: Int -> TermInfer -> TermInfer -> TermInfer\n",
    "substInfer i r (Ann e t)   = Ann (substCheck i r e) t\n",
    "substInfer i r (Bound j)   = if i == j then r else Bound j\n",
    "substInfer i r (Free y)    = Free y\n",
    "substInfer i r (e1 :@: e2) = substInfer i r e1 :@: substCheck i r e2\n",
    "substInfer i r TypeKind    = TypeKind\n",
    "substInfer i r (Pi t1 t2)  = Pi (substCheck i r t1) (substCheck (i + 1) r t2)\n",
    "substInfer i r Nat         = Nat\n",
    "substInfer i r Zero        = Zero\n",
    "substInfer i r (Succ n)    = Succ (substCheck i r n)\n",
    "substInfer i r (NatElim m mz ms n) =\n",
    "  NatElim (substCheck i r m) (substCheck i r mz) (substCheck i r ms) (substCheck i r n)\n",
    "\n",
    "substCheck :: Int -> TermInfer -> TermCheck -> TermCheck\n",
    "substCheck i r (Inf e)  = Inf (substInfer i r e)\n",
    "substCheck i r (Lam e)  = Lam (substCheck (i + 1) r e)\n",
    "\n",
    "vapp :: Value -> Value -> Value\n",
    "vapp (VLam f)     v = f v\n",
    "vapp (VNeutral n) v = VNeutral (NApp n v)"
   ]
  },
  {
   "cell_type": "markdown",
   "id": "28c85b8e-0fc4-4a56-bff5-3e0c583824d6",
   "metadata": {},
   "source": [
    "<img style=\"float:left;border-left:6em solid white\" src=\"./assets/nat-eval.jpg\"/>"
   ]
  },
  {
   "cell_type": "markdown",
   "id": "7b0e9106-af84-473b-93a6-889a984529e6",
   "metadata": {},
   "source": [
    "The first three cases of evaluating natural numbers are straightforward. For the eliminator:\n",
    "- If `k` evaluates to `Zero`, then the evaluation of `mz` is returned.\n",
    "- If `k` evaluates to a `Succ l`, the evaluation of `ms l (natElim m mz ms l)` is returned. Note that the inner `natElim` is recursive.\n",
    "- Otherwise, the evaluation is \"stuck\", and `k` is evaluated to a neutral term."
   ]
  },
  {
   "cell_type": "code",
   "execution_count": 63,
   "id": "4389edff-6b53-4eba-a111-7c0b3e636028",
   "metadata": {},
   "outputs": [],
   "source": [
    "type Env = [Value]\n",
    "\n",
    "evalInfer :: TermInfer -> Env -> Value\n",
    "evalInfer (Ann e _)  d = evalCheck e d\n",
    "evalInfer (Free x)   d = vfree x\n",
    "evalInfer (Bound i)  d = d !! i\n",
    "evalInfer (e :@: e') d = vapp (evalInfer e d) (evalCheck e' d)\n",
    "-- new cases\n",
    "evalInfer TypeKind   d = VTypeKind\n",
    "evalInfer (Pi t1 t2) d = VPi (evalCheck t1 d) (\\x -> evalCheck t2 (x : d))\n",
    "evalInfer Nat        d = VNat\n",
    "evalInfer Zero       d = VZero\n",
    "evalInfer (Succ k)   d = VSucc (evalCheck k d)\n",
    "evalInfer (NatElim m mz ms k) d =\n",
    "  let mzVal = evalCheck mz d\n",
    "      msVal = evalCheck ms d\n",
    "      rec kVal = case kVal of\n",
    "        VZero      -> mzVal\n",
    "        VSucc l    -> msVal `vapp` l `vapp` rec l\n",
    "        VNeutral k -> VNeutral (NNatElim (evalCheck m d) mzVal msVal k)\n",
    "        _          -> error \"internal: eval natElim\"\n",
    "  in rec (evalCheck k d)\n",
    "\n",
    "evalCheck :: TermCheck -> Env -> Value\n",
    "evalCheck (Inf  i) d = evalInfer i d\n",
    "evalCheck (Lam  e) d = VLam (\\x -> evalCheck e (x : d))"
   ]
  },
  {
   "cell_type": "markdown",
   "id": "ea46defd-14cb-44f7-955c-48c7a0f9f9ad",
   "metadata": {},
   "source": [
    "## Quotation"
   ]
  },
  {
   "cell_type": "code",
   "execution_count": 64,
   "id": "8aab32aa-0136-442a-af80-63ae3fe7adef",
   "metadata": {
    "tags": []
   },
   "outputs": [],
   "source": [
    "quote0 :: Value -> TermCheck\n",
    "quote0 = quote 0\n",
    "\n",
    "quote :: Int -> Value -> TermCheck\n",
    "quote i (VLam f)     = Lam <| quote (i + 1) (f (vfree <| Quote i))\n",
    "quote i (VNeutral n) = Inf (neutralQuote i n)\n",
    "quote i VTypeKind    = Inf TypeKind\n",
    "quote i (VPi v f)    = Inf (Pi (quote i v) (quote (i + 1) (f (vfree (Quote i)))))\n",
    "quote i VNat         = Inf Nat\n",
    "quote i VZero        = Inf Zero\n",
    "quote i (VSucc n)    = Inf <| Succ (quote i n)\n",
    "\n",
    "neutralQuote :: Int -> Neutral -> TermInfer\n",
    "neutralQuote i (NFree x)  = boundfree i x\n",
    "neutralQuote i (NApp n v) = neutralQuote i n :@: quote i v\n",
    "neutralQuote i (NNatElim m z s n) =\n",
    "  NatElim (quote i m) (quote i z) (quote i s) (Inf <| neutralQuote i n)\n",
    "  \n",
    "boundfree :: Int -> Name -> TermInfer\n",
    "boundfree i (Quote k) = Bound (i - k - 1)\n",
    "boundfree i x         = Free x"
   ]
  },
  {
   "cell_type": "markdown",
   "id": "c03e16bd-f76d-48ee-910b-ea53191d0e84",
   "metadata": {},
   "source": [
    "## Contexts (unchanged)"
   ]
  },
  {
   "cell_type": "code",
   "execution_count": 65,
   "id": "7091f58d-cb6c-41dd-a99c-b7aba5842d5a",
   "metadata": {
    "tags": []
   },
   "outputs": [],
   "source": [
    "type Type    = Value\n",
    "type Context = Dict Name Type"
   ]
  },
  {
   "cell_type": "markdown",
   "id": "e847d643-421f-4b1d-a5a9-7b71853d531d",
   "metadata": {},
   "source": [
    "## Type Checking"
   ]
  },
  {
   "cell_type": "markdown",
   "id": "abc23f94-fe9f-43eb-845d-f8bd36000762",
   "metadata": {},
   "source": [
    "<img style=\"float:left;border-left:6em solid white\" src=\"./assets/nat-typerules.jpg\"/>"
   ]
  },
  {
   "cell_type": "markdown",
   "id": "2d65620c-4777-46e9-81b8-91f81ca32267",
   "metadata": {},
   "source": [
    "Again, the first three rules are straightforward. For `natElim`:\n",
    "- Typecheck `m` to ensure its type is `m → *`\n",
    "- Evaluate `m Zero`, obtaining `τ`\n",
    "- Typecheck `mz` against `τ`\n",
    "- Evaluate the type of `ms` and typecheck it. In the implementation, we skip the evaluation step and provide the type directly\n",
    "- The type is then `m k`, where `k` is first typechecked to be a `Nat`"
   ]
  },
  {
   "cell_type": "code",
   "execution_count": 66,
   "id": "bc543abd-7643-4542-9c16-d367d2fb9e21",
   "metadata": {},
   "outputs": [
    {
     "data": {
      "text/html": [
       "<style>/* Styles used for the Hoogle display in the pager */\n",
       ".hoogle-doc {\n",
       "display: block;\n",
       "padding-bottom: 1.3em;\n",
       "padding-left: 0.4em;\n",
       "}\n",
       ".hoogle-code {\n",
       "display: block;\n",
       "font-family: monospace;\n",
       "white-space: pre;\n",
       "}\n",
       ".hoogle-text {\n",
       "display: block;\n",
       "}\n",
       ".hoogle-name {\n",
       "color: green;\n",
       "font-weight: bold;\n",
       "}\n",
       ".hoogle-head {\n",
       "font-weight: bold;\n",
       "}\n",
       ".hoogle-sub {\n",
       "display: block;\n",
       "margin-left: 0.4em;\n",
       "}\n",
       ".hoogle-package {\n",
       "font-weight: bold;\n",
       "font-style: italic;\n",
       "}\n",
       ".hoogle-module {\n",
       "font-weight: bold;\n",
       "}\n",
       ".hoogle-class {\n",
       "font-weight: bold;\n",
       "}\n",
       ".get-type {\n",
       "color: green;\n",
       "font-weight: bold;\n",
       "font-family: monospace;\n",
       "display: block;\n",
       "white-space: pre-wrap;\n",
       "}\n",
       ".show-type {\n",
       "color: green;\n",
       "font-weight: bold;\n",
       "font-family: monospace;\n",
       "margin-left: 1em;\n",
       "}\n",
       ".mono {\n",
       "font-family: monospace;\n",
       "display: block;\n",
       "}\n",
       ".err-msg {\n",
       "color: red;\n",
       "font-style: italic;\n",
       "font-family: monospace;\n",
       "white-space: pre;\n",
       "display: block;\n",
       "}\n",
       "#unshowable {\n",
       "color: red;\n",
       "font-weight: bold;\n",
       "}\n",
       ".err-msg.in.collapse {\n",
       "padding-top: 0.7em;\n",
       "}\n",
       ".highlight-code {\n",
       "white-space: pre;\n",
       "font-family: monospace;\n",
       "}\n",
       ".suggestion-warning { \n",
       "font-weight: bold;\n",
       "color: rgb(200, 130, 0);\n",
       "}\n",
       ".suggestion-error { \n",
       "font-weight: bold;\n",
       "color: red;\n",
       "}\n",
       ".suggestion-name {\n",
       "font-weight: bold;\n",
       "}\n",
       "</style><div class=\"suggestion-name\" style=\"clear:both;\">Eta reduce</div><div class=\"suggestion-row\" style=\"float: left;\"><div class=\"suggestion-warning\">Found:</div><div class=\"highlight-code\" id=\"haskell\">typeInfer0 ctx term = typeInfer 0 ctx term</div></div><div class=\"suggestion-row\" style=\"float: left;\"><div class=\"suggestion-warning\">Why Not:</div><div class=\"highlight-code\" id=\"haskell\">typeInfer0 = typeInfer 0</div></div>"
      ],
      "text/plain": [
       "Line 2: Eta reduce\n",
       "Found:\n",
       "typeInfer0 ctx term = typeInfer 0 ctx term\n",
       "Why not:\n",
       "typeInfer0 = typeInfer 0"
      ]
     },
     "metadata": {},
     "output_type": "display_data"
    }
   ],
   "source": [
    "typeInfer0 :: Context -> TermInfer -> Result Type\n",
    "typeInfer0 ctx term = typeInfer 0 ctx term\n",
    "\n",
    "typeInfer :: Int -> Context -> TermInfer -> Result Type\n",
    "typeInfer i ctx (Ann e p) = do\n",
    "  typeCheck i ctx p VTypeKind\n",
    "  let t = evalCheck p []\n",
    "  typeCheck i ctx e t\n",
    "  return t\n",
    "typeInfer i ctx TypeKind = return VTypeKind\n",
    "typeInfer i ctx (Pi p1 p2) = do\n",
    "  typeCheck i ctx p1 VTypeKind\n",
    "  let t = evalCheck p1 []\n",
    "  typeCheck (i + 1) (ctx |> insert (Local i) t) (substCheck 0 (Free (Local i)) p2) VTypeKind\n",
    "  return VTypeKind\n",
    "typeInfer i ctx (Free x) = \n",
    "  case get x ctx of\n",
    "    Just t           -> return t\n",
    "    Nothing          -> throwError \"typeInfer Free case: unknown identifier\"\n",
    "typeInfer i ctx (e1 :@: e2) = do\n",
    "  vDepPair <- typeInfer i ctx e1 \n",
    "  case vDepPair of\n",
    "    VPi t1 t2 -> do\n",
    "      typeCheck i ctx e2 t1\n",
    "      return (t2 <| evalCheck e2 [])\n",
    "    _ -> throwError \"typeInfer :@: case: illegal application\"\n",
    "typeInfer i ctx Nat      = return VTypeKind\n",
    "typeInfer i ctx Zero     = return VNat\n",
    "typeInfer i ctx (Succ k) = do\n",
    "  typeCheck i ctx k VNat\n",
    "  return VNat\n",
    "typeInfer i ctx (NatElim m mz ms k) = do\n",
    "  typeCheck i ctx m (VPi VNat (const VTypeKind))\n",
    "  let mVal = evalCheck m []\n",
    "  typeCheck i ctx mz (mVal `vapp` VZero)\n",
    "  typeCheck i ctx ms (VPi VNat (\\l -> VPi (mVal `vapp` l) (\\_ -> mVal `vapp` VSucc l)))\n",
    "  typeCheck i ctx k VNat\n",
    "  let kVal = evalCheck k []\n",
    "  return (mVal `vapp` kVal)\n",
    "    \n",
    "typeCheck :: Int -> Context -> TermCheck -> Type -> Result ()\n",
    "typeCheck i ctx (Inf e) v = do\n",
    "  v' <- typeInfer i ctx e \n",
    "  unless (quote0 v == quote0 v') (throwError \"typeCheck Inf case: type mismatch\")\n",
    "typeCheck i ctx (Lam e) (VPi t1 t2) =\n",
    "  typeCheck (i + 1) (ctx |> insert (Local i) t1)\n",
    "            (substCheck 0 (Free (Local i)) e) (t2 (vfree (Local i)))\n",
    "typeCheck i ctx _ _ = throwError \"typeCheck non-case: type mismatch\""
   ]
  },
  {
   "cell_type": "markdown",
   "id": "1d9905af-e235-445a-a5da-79115951819b",
   "metadata": {},
   "source": [
    "## Examples"
   ]
  },
  {
   "cell_type": "code",
   "execution_count": 67,
   "id": "3d437216-3e93-416a-8bda-a57ca5028f79",
   "metadata": {
    "tags": []
   },
   "outputs": [
    {
     "data": {
      "text/html": [
       "<style>/* Styles used for the Hoogle display in the pager */\n",
       ".hoogle-doc {\n",
       "display: block;\n",
       "padding-bottom: 1.3em;\n",
       "padding-left: 0.4em;\n",
       "}\n",
       ".hoogle-code {\n",
       "display: block;\n",
       "font-family: monospace;\n",
       "white-space: pre;\n",
       "}\n",
       ".hoogle-text {\n",
       "display: block;\n",
       "}\n",
       ".hoogle-name {\n",
       "color: green;\n",
       "font-weight: bold;\n",
       "}\n",
       ".hoogle-head {\n",
       "font-weight: bold;\n",
       "}\n",
       ".hoogle-sub {\n",
       "display: block;\n",
       "margin-left: 0.4em;\n",
       "}\n",
       ".hoogle-package {\n",
       "font-weight: bold;\n",
       "font-style: italic;\n",
       "}\n",
       ".hoogle-module {\n",
       "font-weight: bold;\n",
       "}\n",
       ".hoogle-class {\n",
       "font-weight: bold;\n",
       "}\n",
       ".get-type {\n",
       "color: green;\n",
       "font-weight: bold;\n",
       "font-family: monospace;\n",
       "display: block;\n",
       "white-space: pre-wrap;\n",
       "}\n",
       ".show-type {\n",
       "color: green;\n",
       "font-weight: bold;\n",
       "font-family: monospace;\n",
       "margin-left: 1em;\n",
       "}\n",
       ".mono {\n",
       "font-family: monospace;\n",
       "display: block;\n",
       "}\n",
       ".err-msg {\n",
       "color: red;\n",
       "font-style: italic;\n",
       "font-family: monospace;\n",
       "white-space: pre;\n",
       "display: block;\n",
       "}\n",
       "#unshowable {\n",
       "color: red;\n",
       "font-weight: bold;\n",
       "}\n",
       ".err-msg.in.collapse {\n",
       "padding-top: 0.7em;\n",
       "}\n",
       ".highlight-code {\n",
       "white-space: pre;\n",
       "font-family: monospace;\n",
       "}\n",
       ".suggestion-warning { \n",
       "font-weight: bold;\n",
       "color: rgb(200, 130, 0);\n",
       "}\n",
       ".suggestion-error { \n",
       "font-weight: bold;\n",
       "color: red;\n",
       "}\n",
       ".suggestion-name {\n",
       "font-weight: bold;\n",
       "}\n",
       "</style><div class=\"suggestion-name\" style=\"clear:both;\">Use const</div><div class=\"suggestion-row\" style=\"float: left;\"><div class=\"suggestion-warning\">Found:</div><div class=\"highlight-code\" id=\"haskell\">\\ _ -> VNat</div></div><div class=\"suggestion-row\" style=\"float: left;\"><div class=\"suggestion-warning\">Why Not:</div><div class=\"highlight-code\" id=\"haskell\">const VNat</div></div><div class=\"suggestion-name\" style=\"clear:both;\">Use const</div><div class=\"suggestion-row\" style=\"float: left;\"><div class=\"suggestion-warning\">Found:</div><div class=\"highlight-code\" id=\"haskell\">\\ _ -> VTypeKind</div></div><div class=\"suggestion-row\" style=\"float: left;\"><div class=\"suggestion-warning\">Why Not:</div><div class=\"highlight-code\" id=\"haskell\">const VTypeKind</div></div><div class=\"suggestion-name\" style=\"clear:both;\">Use const</div><div class=\"suggestion-row\" style=\"float: left;\"><div class=\"suggestion-warning\">Found:</div><div class=\"highlight-code\" id=\"haskell\">\\ _ -> (m `vapp` (VSucc k))</div></div><div class=\"suggestion-row\" style=\"float: left;\"><div class=\"suggestion-warning\">Why Not:</div><div class=\"highlight-code\" id=\"haskell\">const (m `vapp` (VSucc k))</div></div><div class=\"suggestion-name\" style=\"clear:both;\">Redundant bracket</div><div class=\"suggestion-row\" style=\"float: left;\"><div class=\"suggestion-warning\">Found:</div><div class=\"highlight-code\" id=\"haskell\">\\ _ -> (m `vapp` (VSucc k))</div></div><div class=\"suggestion-row\" style=\"float: left;\"><div class=\"suggestion-warning\">Why Not:</div><div class=\"highlight-code\" id=\"haskell\">\\ _ -> m `vapp` (VSucc k)</div></div><div class=\"suggestion-name\" style=\"clear:both;\">Redundant bracket</div><div class=\"suggestion-row\" style=\"float: left;\"><div class=\"suggestion-warning\">Found:</div><div class=\"highlight-code\" id=\"haskell\">m `vapp` (VSucc k)</div></div><div class=\"suggestion-row\" style=\"float: left;\"><div class=\"suggestion-warning\">Why Not:</div><div class=\"highlight-code\" id=\"haskell\">m `vapp` VSucc k</div></div><div class=\"suggestion-name\" style=\"clear:both;\">Avoid lambda</div><div class=\"suggestion-row\" style=\"float: left;\"><div class=\"suggestion-warning\">Found:</div><div class=\"highlight-code\" id=\"haskell\">(\\ n -> VSucc n)</div></div><div class=\"suggestion-row\" style=\"float: left;\"><div class=\"suggestion-warning\">Why Not:</div><div class=\"highlight-code\" id=\"haskell\">VSucc</div></div>"
      ],
      "text/plain": [
       "Line 2: Use const\n",
       "Found:\n",
       "\\ _ -> VNat\n",
       "Why not:\n",
       "const VNatLine 5: Use const\n",
       "Found:\n",
       "\\ _ -> VTypeKind\n",
       "Why not:\n",
       "const VTypeKindLine 7: Use const\n",
       "Found:\n",
       "\\ _ -> (m `vapp` (VSucc k))\n",
       "Why not:\n",
       "const (m `vapp` (VSucc k))Line 7: Redundant bracket\n",
       "Found:\n",
       "\\ _ -> (m `vapp` (VSucc k))\n",
       "Why not:\n",
       "\\ _ -> m `vapp` (VSucc k)Line 7: Redundant bracket\n",
       "Found:\n",
       "m `vapp` (VSucc k)\n",
       "Why not:\n",
       "m `vapp` VSucc kLine 18: Avoid lambda\n",
       "Found:\n",
       "(\\ n -> VSucc n)\n",
       "Why not:\n",
       "VSucc"
      ]
     },
     "metadata": {},
     "output_type": "display_data"
    }
   ],
   "source": [
    "zeroTy = VNat\n",
    "succTy = VPi VNat (\\ _ -> VNat)\n",
    "natTy = VTypeKind\n",
    "natElimTy = \n",
    "  VPi (VPi VNat (\\ _ -> VTypeKind)) (\\ m ->\n",
    "                               VPi (m `vapp` VZero) (\\ _ ->\n",
    "                               VPi (VPi VNat (\\ k -> VPi (m `vapp` k) (\\ _ -> (m `vapp` (VSucc k))))) ( \\ _ ->\n",
    "                               VPi VNat (\\ n -> m `vapp` n))))\n",
    "                               \n",
    "ctx = \n",
    "  Dict.fromList <|\n",
    "     [(Global \"Zero\", zeroTy),\n",
    "             (Global \"Succ\", succTy),\n",
    "             (Global \"Nat\", natTy),\n",
    "             (Global \"natElim\", natElimTy)]\n",
    "\n",
    "zeroVal = VZero\n",
    "succVal = VLam (\\n -> VSucc n)\n",
    "natVal = VNat\n",
    "natElimVal = Lam <| Lam <| Lam <| Lam <| Inf <| NatElim (Inf (Bound 3)) (Inf (Bound 2)) (Inf (Bound 1)) (Inf (Bound 0))\n",
    "\n",
    "plus = (Ann natElimVal <| quote0 natElimTy) :@: (Lam <| Inf <| Pi (Inf Nat) (Inf Nat)) :@: (Lam <| Inf (Bound 0)) :@: (Lam <| Lam <| Lam <| Inf <| Succ <| Inf (Bound 1 :@: Inf (Bound 0)))"
   ]
  },
  {
   "cell_type": "code",
   "execution_count": 68,
   "id": "193cf5eb-4b22-4567-8a6d-3a120ca1908e",
   "metadata": {
    "tags": []
   },
   "outputs": [
    {
     "data": {
      "text/plain": [
       "((((Ann (Lam (Lam (Lam (Lam (Inf (NatElim (Inf (Bound 3)) (Inf (Bound 2)) (Inf (Bound 1)) (Inf (Bound 0)))))))) (Inf (Pi (Inf (Pi (Inf Nat) (Inf TypeKind))) (Inf (Pi (Inf (Bound 0 :@: Inf Zero)) (Inf (Pi (Inf (Pi (Inf Nat) (Inf (Pi (Inf (Bound 2 :@: Inf (Bound 0))) (Inf (Bound 3 :@: Inf (Succ (Inf (Bound 1))))))))) (Inf (Pi (Inf Nat) (Inf (Bound 3 :@: Inf (Bound 0))))))))))) :@: Lam (Inf (Pi (Inf Nat) (Inf Nat)))) :@: Lam (Inf (Bound 0))) :@: Lam (Lam (Lam (Inf (Succ (Inf (Bound 1 :@: Inf (Bound 0)))))))) :@: Inf (Succ (Inf (Succ (Inf Zero))))) :@: Inf (Succ (Inf (Succ (Inf Zero))))"
      ]
     },
     "metadata": {},
     "output_type": "display_data"
    }
   ],
   "source": [
    "two = Succ <| Inf <| Succ <| Inf Zero\n",
    "twoPlusTwo = plus :@: Inf two :@: Inf two\n",
    "twoPlusTwo"
   ]
  },
  {
   "cell_type": "code",
   "execution_count": 69,
   "id": "7c323b00-8779-461b-b112-41cec0b380d9",
   "metadata": {
    "tags": []
   },
   "outputs": [
    {
     "data": {
      "text/plain": [
       "Inf (Succ (Inf (Succ (Inf (Succ (Inf (Succ (Inf Zero))))))))"
      ]
     },
     "metadata": {},
     "output_type": "display_data"
    }
   ],
   "source": [
    "quote0 (evalInfer twoPlusTwo [])"
   ]
  },
  {
   "cell_type": "code",
   "execution_count": 70,
   "id": "965182fb-c4e3-420d-b5b1-700e30d85878",
   "metadata": {
    "tags": []
   },
   "outputs": [
    {
     "data": {
      "text/html": [
       "<style>/* Styles used for the Hoogle display in the pager */\n",
       ".hoogle-doc {\n",
       "display: block;\n",
       "padding-bottom: 1.3em;\n",
       "padding-left: 0.4em;\n",
       "}\n",
       ".hoogle-code {\n",
       "display: block;\n",
       "font-family: monospace;\n",
       "white-space: pre;\n",
       "}\n",
       ".hoogle-text {\n",
       "display: block;\n",
       "}\n",
       ".hoogle-name {\n",
       "color: green;\n",
       "font-weight: bold;\n",
       "}\n",
       ".hoogle-head {\n",
       "font-weight: bold;\n",
       "}\n",
       ".hoogle-sub {\n",
       "display: block;\n",
       "margin-left: 0.4em;\n",
       "}\n",
       ".hoogle-package {\n",
       "font-weight: bold;\n",
       "font-style: italic;\n",
       "}\n",
       ".hoogle-module {\n",
       "font-weight: bold;\n",
       "}\n",
       ".hoogle-class {\n",
       "font-weight: bold;\n",
       "}\n",
       ".get-type {\n",
       "color: green;\n",
       "font-weight: bold;\n",
       "font-family: monospace;\n",
       "display: block;\n",
       "white-space: pre-wrap;\n",
       "}\n",
       ".show-type {\n",
       "color: green;\n",
       "font-weight: bold;\n",
       "font-family: monospace;\n",
       "margin-left: 1em;\n",
       "}\n",
       ".mono {\n",
       "font-family: monospace;\n",
       "display: block;\n",
       "}\n",
       ".err-msg {\n",
       "color: red;\n",
       "font-style: italic;\n",
       "font-family: monospace;\n",
       "white-space: pre;\n",
       "display: block;\n",
       "}\n",
       "#unshowable {\n",
       "color: red;\n",
       "font-weight: bold;\n",
       "}\n",
       ".err-msg.in.collapse {\n",
       "padding-top: 0.7em;\n",
       "}\n",
       ".highlight-code {\n",
       "white-space: pre;\n",
       "font-family: monospace;\n",
       "}\n",
       ".suggestion-warning { \n",
       "font-weight: bold;\n",
       "color: rgb(200, 130, 0);\n",
       "}\n",
       ".suggestion-error { \n",
       "font-weight: bold;\n",
       "color: red;\n",
       "}\n",
       ".suggestion-name {\n",
       "font-weight: bold;\n",
       "}\n",
       "</style><div class=\"suggestion-name\" style=\"clear:both;\">Redundant bracket</div><div class=\"suggestion-row\" style=\"float: left;\"><div class=\"suggestion-warning\">Found:</div><div class=\"highlight-code\" id=\"haskell\">(twoPlusTwo)</div></div><div class=\"suggestion-row\" style=\"float: left;\"><div class=\"suggestion-warning\">Why Not:</div><div class=\"highlight-code\" id=\"haskell\">twoPlusTwo</div></div>"
      ],
      "text/plain": [
       "Line 2: Redundant bracket\n",
       "Found:\n",
       "(twoPlusTwo)\n",
       "Why not:\n",
       "twoPlusTwo"
      ]
     },
     "metadata": {},
     "output_type": "display_data"
    },
    {
     "data": {
      "text/plain": [
       "Right (Inf Nat)"
      ]
     },
     "metadata": {},
     "output_type": "display_data"
    }
   ],
   "source": [
    "runInferTwoPlusTwo = do\n",
    "  res <- typeInfer0 ctx (twoPlusTwo)\n",
    "  pure $ quote0 res\n",
    "runInferTwoPlusTwo"
   ]
  },
  {
   "cell_type": "markdown",
   "id": "2ca0fa16-5f3f-4893-976f-963b53f0626c",
   "metadata": {},
   "source": [
    "# References\n",
    "\n",
    "[1] Löh, Andres, Conor McBride, and Wouter Swierstra. \"A tutorial implementation of a dependently typed lambda calculus.\" Fundamenta informaticae 102.2 (2010): 177-207."
   ]
  }
 ],
 "metadata": {
  "kernelspec": {
   "display_name": "haskell-cas781 kernel",
   "language": "haskell",
   "name": "haskell-cas781"
  },
  "language_info": {
   "codemirror_mode": "Haskell",
   "file_extension": ".hs",
   "mimetype": "text/x-haskell",
   "name": "haskell",
   "pygments_lexer": "Haskell",
   "version": "9.0.2"
  },
  "toc-showmarkdowntxt": false
 },
 "nbformat": 4,
 "nbformat_minor": 5
}
